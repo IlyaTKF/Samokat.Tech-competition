{
 "cells": [
  {
   "cell_type": "markdown",
   "id": "4a7629f8-0688-48e2-a5e7-ed1dbfeeabfe",
   "metadata": {},
   "source": [
    "# Бинарная классификация: детекция матчей при сопоставлении товаров"
   ]
  },
  {
   "cell_type": "markdown",
   "id": "379fe8d8-a6e6-48a9-9a73-569a20958cd4",
   "metadata": {
    "execution": {
     "iopub.execute_input": "2024-02-06T20:36:57.271027Z",
     "iopub.status.busy": "2024-02-06T20:36:57.270370Z",
     "iopub.status.idle": "2024-02-06T20:36:57.298180Z",
     "shell.execute_reply": "2024-02-06T20:36:57.297176Z",
     "shell.execute_reply.started": "2024-02-06T20:36:57.270996Z"
    },
    "tags": []
   },
   "source": [
    "**Задача**\n",
    "\n",
    "Для решения задачи предоставлены обезличенные данные по товарным предложениям продавцов (offer) и товарам ассортимента маркетплейса \"Мегамаркет\" (goods).\n",
    "В данных для каждого предложения уже найдены ближайшие товары из ассортимента и указаны основные признаки для этой пары. **Необходимо только классифицировать, какая из пар является матчем, а какая — нет.**\n",
    "\n",
    "**Признаки**\n",
    "- `offer_depersanalised` - идентификаторы предложения\n",
    "- `goods_depersanalised` - идентификаторы товара\n",
    "- `sum_length` - суммарная длина пары названий и атрибутов в символах\n",
    "- `attrs+title_score` - вероятность матча от рескоринговой модели\n",
    "- `offer_price` - цена предложения\n",
    "- `item_price` - цена товара\n",
    "- `goods_category_id` - категория товара\n",
    "- `id` - идентификатор пары offer_depersanalised + $ + goods_depersanalised\n",
    "- `target` (только в train.csv) - метка класса (0 - не матч, 1 - матч)\n",
    "\n",
    "**Эмбеддинги**\n",
    "\n",
    "- `goods_image_vectors и offer_image_vectors` - содержат файлы с векторами изображений (*embed_deperson.npy*) и их идентификаторами (*items_deperson.npy*) для товаров ассортимента и предложений соответственно. Объекты в файлах соотносятся 1 к 1\n",
    "- `goods_title_vectors и offer_title_vectors` - содержат файлы с векторами названий+атрибутов (*embed_deperson.npy*) и их идентификаторами (*items_deperson.npy*) для товаров ассортимента и предложений соответственно. Объекты в файлах соотносятся 1 к 1\n",
    "\n",
    "**Краткий план действий**\n",
    "\n",
    "1. Осмотр данных\n",
    "2. Предобработка признаков и эмбеддингов\n",
    "3. Feature engineering, тестирование моделей и подбор оптимальных параметров\n",
    "4. Тестирование финальной модели"
   ]
  },
  {
   "cell_type": "markdown",
   "id": "3c2df8fb-f892-4ce8-a3a2-648e90c5a3e6",
   "metadata": {},
   "source": [
    "## Загрузка и осмотр данных"
   ]
  },
  {
   "cell_type": "code",
   "execution_count": 10,
   "id": "8b61827f-08ce-4ac6-9429-7423a94cbba3",
   "metadata": {
    "execution": {
     "iopub.execute_input": "2024-02-06T14:08:01.536995Z",
     "iopub.status.busy": "2024-02-06T14:08:01.536554Z",
     "iopub.status.idle": "2024-02-06T14:08:05.961406Z",
     "shell.execute_reply": "2024-02-06T14:08:05.960609Z",
     "shell.execute_reply.started": "2024-02-06T14:08:01.536954Z"
    },
    "tags": []
   },
   "outputs": [
    {
     "name": "stdout",
     "output_type": "stream",
     "text": [
      "\u001b[33m  WARNING: The script normalizer is installed in '/home/jupyter/.local/bin' which is not on PATH.\n",
      "  Consider adding this directory to PATH or, if you prefer to suppress this warning, use --no-warn-script-location.\u001b[0m\u001b[33m\n",
      "\u001b[0m\n",
      "\u001b[1m[\u001b[0m\u001b[34;49mnotice\u001b[0m\u001b[1;39;49m]\u001b[0m\u001b[39;49m A new release of pip is available: \u001b[0m\u001b[31;49m23.2.1\u001b[0m\u001b[39;49m -> \u001b[0m\u001b[32;49m24.0\u001b[0m\n",
      "\u001b[1m[\u001b[0m\u001b[34;49mnotice\u001b[0m\u001b[1;39;49m]\u001b[0m\u001b[39;49m To update, run: \u001b[0m\u001b[32;49mpython3 -m pip install --upgrade pip\u001b[0m\n"
     ]
    }
   ],
   "source": [
    "# устанавливаем модуль kaggle\n",
    "%pip install -q kaggle"
   ]
  },
  {
   "cell_type": "code",
   "execution_count": 11,
   "id": "69ed0191-6c14-41cd-8f72-6fc06ffaebb2",
   "metadata": {
    "execution": {
     "iopub.execute_input": "2024-02-06T14:08:05.963429Z",
     "iopub.status.busy": "2024-02-06T14:08:05.962627Z",
     "iopub.status.idle": "2024-02-06T14:08:38.983474Z",
     "shell.execute_reply": "2024-02-06T14:08:38.982688Z",
     "shell.execute_reply.started": "2024-02-06T14:08:05.963397Z"
    },
    "tags": []
   },
   "outputs": [
    {
     "name": "stdout",
     "output_type": "stream",
     "text": [
      "Downloading binary-classification-offers-on-the-marketplace.zip to /home/jupyter/work/resources\n",
      "\n"
     ]
    },
    {
     "name": "stderr",
     "output_type": "stream",
     "text": [
      "100%|██████████| 989M/989M [00:31<00:00, 32.8MB/s] \n"
     ]
    }
   ],
   "source": [
    "# загружаем датасеты соревнования\n",
    "import os\n",
    "os.environ['KAGGLE_USERNAME'] = \"******\"\n",
    "os.environ['KAGGLE_KEY'] = \"*****************************\"\n",
    "!kaggle competitions download -c binary-classification-offers-on-the-marketplace"
   ]
  },
  {
   "cell_type": "code",
   "execution_count": 3,
   "id": "753cda27-36ed-4539-a35b-dec01672c74b",
   "metadata": {
    "execution": {
     "iopub.execute_input": "2024-02-06T15:18:47.763654Z",
     "iopub.status.busy": "2024-02-06T15:18:47.762904Z",
     "iopub.status.idle": "2024-02-06T15:19:10.245991Z",
     "shell.execute_reply": "2024-02-06T15:19:10.245221Z",
     "shell.execute_reply.started": "2024-02-06T15:18:47.763615Z"
    },
    "tags": []
   },
   "outputs": [
    {
     "name": "stdout",
     "output_type": "stream",
     "text": [
      "Archive:  binary-classification-offers-on-the-marketplace.zip\n",
      "  inflating: goods_image_vectors/goods_image_vectors/embed_deperson.npy  \n",
      "  inflating: goods_image_vectors/goods_image_vectors/items_deperson.npy  \n",
      "  inflating: goods_title_vectors/goods_title_vectors/embed_deperson.npy  \n",
      "  inflating: goods_title_vectors/goods_title_vectors/items_deperson.npy  \n",
      "  inflating: offer_image_vectors/offer_image_vectors/embed_deperson.npy  \n",
      "  inflating: offer_image_vectors/offer_image_vectors/items_deperson.npy  \n",
      "  inflating: offer_title_vectors/offer_title_vectors/embed_deperson.npy  \n",
      "  inflating: offer_title_vectors/offer_title_vectors/items_deperson.npy  \n",
      "  inflating: sample_submission.csv   \n",
      "  inflating: test.csv                \n",
      "  inflating: train.csv               \n"
     ]
    }
   ],
   "source": [
    "# распаковываем архив\n",
    "!unzip -o binary-classification-offers-on-the-marketplace.zip"
   ]
  },
  {
   "cell_type": "code",
   "execution_count": 1,
   "id": "14c2032b-740e-4101-9dfe-618131f6bd14",
   "metadata": {
    "execution": {
     "iopub.execute_input": "2024-02-14T09:39:47.354544Z",
     "iopub.status.busy": "2024-02-14T09:39:47.353905Z",
     "iopub.status.idle": "2024-02-14T09:40:03.970180Z",
     "shell.execute_reply": "2024-02-14T09:40:03.969558Z",
     "shell.execute_reply.started": "2024-02-14T09:39:47.354508Z"
    },
    "tags": []
   },
   "outputs": [
    {
     "name": "stdout",
     "output_type": "stream",
     "text": [
      "Defaulting to user installation because normal site-packages is not writeable\n",
      "Requirement already satisfied: catboost in /home/jupyter/.local/lib/python3.10/site-packages (1.2.2)\n",
      "Requirement already satisfied: graphviz in /usr/local/lib/python3.10/dist-packages (from catboost) (0.20.1)\n",
      "Requirement already satisfied: matplotlib in /usr/local/lib/python3.10/dist-packages (from catboost) (3.7.1)\n",
      "Requirement already satisfied: numpy>=1.16.0 in /usr/local/lib/python3.10/dist-packages (from catboost) (1.22.4)\n",
      "Requirement already satisfied: pandas>=0.24 in /usr/local/lib/python3.10/dist-packages (from catboost) (1.5.3)\n",
      "Requirement already satisfied: scipy in /usr/local/lib/python3.10/dist-packages (from catboost) (1.10.1)\n",
      "Requirement already satisfied: plotly in /usr/local/lib/python3.10/dist-packages (from catboost) (5.13.1)\n",
      "Requirement already satisfied: six in /kernel/lib/python3.10/site-packages (from catboost) (1.16.0)\n",
      "Requirement already satisfied: python-dateutil>=2.8.1 in /kernel/lib/python3.10/site-packages (from pandas>=0.24->catboost) (2.8.2)\n",
      "Requirement already satisfied: pytz>=2020.1 in /usr/local/lib/python3.10/dist-packages (from pandas>=0.24->catboost) (2022.7.1)\n",
      "Requirement already satisfied: contourpy>=1.0.1 in /kernel/lib/python3.10/site-packages (from matplotlib->catboost) (1.2.0)\n",
      "Requirement already satisfied: cycler>=0.10 in /kernel/lib/python3.10/site-packages (from matplotlib->catboost) (0.12.1)\n",
      "Requirement already satisfied: fonttools>=4.22.0 in /kernel/lib/python3.10/site-packages (from matplotlib->catboost) (4.47.2)\n",
      "Requirement already satisfied: kiwisolver>=1.0.1 in /kernel/lib/python3.10/site-packages (from matplotlib->catboost) (1.4.5)\n",
      "Requirement already satisfied: packaging>=20.0 in /kernel/lib/python3.10/site-packages (from matplotlib->catboost) (23.2)\n",
      "Requirement already satisfied: pillow>=6.2.0 in /kernel/lib/python3.10/site-packages (from matplotlib->catboost) (10.2.0)\n",
      "Requirement already satisfied: pyparsing>=2.3.1 in /kernel/lib/python3.10/site-packages (from matplotlib->catboost) (2.4.7)\n",
      "Requirement already satisfied: tenacity>=6.2.0 in /usr/local/lib/python3.10/dist-packages (from plotly->catboost) (8.2.2)\n",
      "Defaulting to user installation because normal site-packages is not writeable\n",
      "Requirement already satisfied: optuna in /home/jupyter/.local/lib/python3.10/site-packages (3.5.0)\n",
      "Requirement already satisfied: alembic>=1.5.0 in /home/jupyter/.local/lib/python3.10/site-packages (from optuna) (1.13.1)\n",
      "Requirement already satisfied: colorlog in /home/jupyter/.local/lib/python3.10/site-packages (from optuna) (6.8.2)\n",
      "Requirement already satisfied: numpy in /usr/local/lib/python3.10/dist-packages (from optuna) (1.22.4)\n",
      "Requirement already satisfied: packaging>=20.0 in /kernel/lib/python3.10/site-packages (from optuna) (23.2)\n",
      "Requirement already satisfied: sqlalchemy>=1.3.0 in /usr/local/lib/python3.10/dist-packages (from optuna) (2.0.19)\n",
      "Requirement already satisfied: tqdm in /usr/local/lib/python3.10/dist-packages (from optuna) (4.65.0)\n",
      "Requirement already satisfied: PyYAML in /usr/local/lib/python3.10/dist-packages (from optuna) (6.0.1)\n",
      "Requirement already satisfied: Mako in /home/jupyter/.local/lib/python3.10/site-packages (from alembic>=1.5.0->optuna) (1.3.2)\n",
      "Requirement already satisfied: typing-extensions>=4 in /kernel/lib/python3.10/site-packages (from alembic>=1.5.0->optuna) (4.9.0)\n",
      "Requirement already satisfied: greenlet!=0.4.17 in /usr/local/lib/python3.10/dist-packages (from sqlalchemy>=1.3.0->optuna) (2.0.2)\n",
      "Requirement already satisfied: MarkupSafe>=0.9.2 in /kernel/lib/python3.10/site-packages (from Mako->alembic>=1.5.0->optuna) (2.1.4)\n"
     ]
    }
   ],
   "source": [
    "# загружаем необходимые библиотеки и модули \n",
    "\n",
    "%pip install catboost\n",
    "%pip install optuna\n",
    "\n",
    "import pandas as pd\n",
    "import numpy as np\n",
    "import matplotlib.pyplot as plt\n",
    "import seaborn as sns\n",
    "import lightgbm as lgb\n",
    "import xgboost as xgb\n",
    "import optuna\n",
    "import optuna.logging\n",
    "import warnings\n",
    "\n",
    "warnings.simplefilter(action='ignore', category=FutureWarning)\n",
    "\n",
    "from sklearn.metrics import f1_score, make_scorer, precision_score, recall_score\n",
    "from sklearn.metrics.pairwise import cosine_similarity\n",
    "from sklearn.preprocessing import normalize, StandardScaler\n",
    "from sklearn.model_selection import cross_val_score, train_test_split\n",
    "from sklearn.compose import ColumnTransformer, make_column_transformer, make_column_selector\n",
    "from sklearn.pipeline import make_pipeline\n",
    "from sklearn.impute import KNNImputer\n",
    "\n",
    "from sklearn.ensemble import RandomForestClassifier, VotingClassifier\n",
    "from sklearn.linear_model import LogisticRegression\n",
    "from catboost import CatBoostClassifier"
   ]
  },
  {
   "cell_type": "code",
   "execution_count": 2,
   "id": "07cccd54-4dc4-4725-aa91-ace96a07882f",
   "metadata": {
    "execution": {
     "iopub.execute_input": "2024-02-14T09:40:03.971559Z",
     "iopub.status.busy": "2024-02-14T09:40:03.971179Z",
     "iopub.status.idle": "2024-02-14T09:41:30.601339Z",
     "shell.execute_reply": "2024-02-14T09:41:30.600669Z",
     "shell.execute_reply.started": "2024-02-14T09:40:03.971515Z"
    },
    "tags": []
   },
   "outputs": [],
   "source": [
    "# сохраняем датасеты и массивы в переменные\n",
    "train = pd.read_csv('train.csv')\n",
    "test = pd.read_csv('test.csv')\n",
    "sample_submission = pd.read_csv('sample_submission.csv')\n",
    "goods_image_vectors = np.load('goods_image_vectors/goods_image_vectors/embed_deperson.npy')\n",
    "goods_image_vectors_id = np.load('goods_image_vectors/goods_image_vectors/items_deperson.npy')\n",
    "goods_title_vectors = np.load('goods_title_vectors/goods_title_vectors/embed_deperson.npy')\n",
    "goods_title_vectors_id = np.load('goods_title_vectors/goods_title_vectors/items_deperson.npy')\n",
    "offer_image_vectors = np.load('offer_image_vectors/offer_image_vectors/embed_deperson.npy')\n",
    "offer_image_vectors_id = np.load('offer_image_vectors/offer_image_vectors/items_deperson.npy')\n",
    "offer_title_vectors = np.load('offer_title_vectors/offer_title_vectors/embed_deperson.npy')\n",
    "offer_title_vectors_id = np.load('offer_title_vectors/offer_title_vectors/items_deperson.npy')"
   ]
  },
  {
   "cell_type": "code",
   "execution_count": 3,
   "id": "d672013b-43b1-4afe-99c5-c913cf960e81",
   "metadata": {
    "execution": {
     "iopub.execute_input": "2024-02-14T09:41:30.603215Z",
     "iopub.status.busy": "2024-02-14T09:41:30.602549Z",
     "iopub.status.idle": "2024-02-14T09:41:30.613880Z",
     "shell.execute_reply": "2024-02-14T09:41:30.613340Z",
     "shell.execute_reply.started": "2024-02-14T09:41:30.603178Z"
    },
    "tags": []
   },
   "outputs": [
    {
     "name": "stdout",
     "output_type": "stream",
     "text": [
      "Объем данных в обучающей выборке: (2518441, 9)\n",
      "Объем данных в тестовой выборке: (363835, 8)\n",
      "Объем данных в sample_submission: (363835, 2)\n"
     ]
    }
   ],
   "source": [
    "# проверим объем данных \n",
    "print(\"Объем данных в обучающей выборке:\",train.shape) \n",
    "print(\"Объем данных в тестовой выборке:\",test.shape)\n",
    "print(\"Объем данных в sample_submission:\",sample_submission.shape)"
   ]
  },
  {
   "cell_type": "code",
   "execution_count": 4,
   "id": "0367160e-8e35-4f05-8a77-d2a17bb3047b",
   "metadata": {
    "execution": {
     "iopub.execute_input": "2024-02-14T09:41:30.615991Z",
     "iopub.status.busy": "2024-02-14T09:41:30.615206Z",
     "iopub.status.idle": "2024-02-14T09:41:30.644067Z",
     "shell.execute_reply": "2024-02-14T09:41:30.643354Z",
     "shell.execute_reply.started": "2024-02-14T09:41:30.615963Z"
    },
    "tags": []
   },
   "outputs": [],
   "source": [
    "# функция для получения общей информации о датасете\n",
    "\n",
    "def info (df):\n",
    "    print(40*' ','Первые 10 строк датасета')\n",
    "    display(df.head(10))\n",
    "    print(100*'*')\n",
    "    print(40*' ','Информация о типах и количестве данных')\n",
    "    print('')\n",
    "    display(df.info())\n",
    "    print(100*'*')\n",
    "    print(40*' ','Описательные статистики')\n",
    "    display(df.describe())\n",
    "    print(100*'*')\n",
    "    print('Количество явных дубликатов:',df.duplicated().sum())\n",
    "    print('Количество пропусков:')\n",
    "    print(df.isna().sum())\n",
    "    print(100*'*')\n",
    "    df.hist(figsize=(20,10),bins=100)\n",
    "        \n",
    "# функция для получения общей информации о массиве      \n",
    "\n",
    "def info_array(array_dict):\n",
    "    for name, arr in array_dict.items():\n",
    "        print(f\"{name}:\")\n",
    "        print(\"Объем массива:\", arr.shape)\n",
    "        print(\"Тип данных массива:\", arr.dtype)\n",
    "        print(\"Размерность массива:\", arr.ndim)\n",
    "        \n",
    "        is_normalized = np.allclose(np.linalg.norm(arr), 1)\n",
    "\n",
    "        if is_normalized:\n",
    "            print(\"Массив нормализован.\")\n",
    "        else:\n",
    "            print(\"Массив не нормализован.\")\n",
    "        print('*'*100)"
   ]
  },
  {
   "cell_type": "code",
   "execution_count": 5,
   "id": "4bd7ed34-7059-4851-a71b-b1e34fa99994",
   "metadata": {
    "execution": {
     "iopub.execute_input": "2024-02-14T09:41:30.645194Z",
     "iopub.status.busy": "2024-02-14T09:41:30.644783Z",
     "iopub.status.idle": "2024-02-14T09:41:36.308912Z",
     "shell.execute_reply": "2024-02-14T09:41:36.307961Z",
     "shell.execute_reply.started": "2024-02-14T09:41:30.645164Z"
    },
    "tags": []
   },
   "outputs": [
    {
     "name": "stdout",
     "output_type": "stream",
     "text": [
      "                                         Первые 10 строк датасета\n"
     ]
    },
    {
     "data": {
      "text/html": [
       "<div>\n",
       "<style scoped>\n",
       "    .dataframe tbody tr th:only-of-type {\n",
       "        vertical-align: middle;\n",
       "    }\n",
       "\n",
       "    .dataframe tbody tr th {\n",
       "        vertical-align: top;\n",
       "    }\n",
       "\n",
       "    .dataframe thead th {\n",
       "        text-align: right;\n",
       "    }\n",
       "</style>\n",
       "<table border=\"1\" class=\"dataframe\">\n",
       "  <thead>\n",
       "    <tr style=\"text-align: right;\">\n",
       "      <th></th>\n",
       "      <th>offer_depersanalised</th>\n",
       "      <th>goods_depersanalised</th>\n",
       "      <th>sum_length</th>\n",
       "      <th>attrs+title_score</th>\n",
       "      <th>offer_price</th>\n",
       "      <th>goods_price</th>\n",
       "      <th>goods_category_id</th>\n",
       "      <th>target</th>\n",
       "      <th>id</th>\n",
       "    </tr>\n",
       "  </thead>\n",
       "  <tbody>\n",
       "    <tr>\n",
       "      <th>0</th>\n",
       "      <td>295140</td>\n",
       "      <td>1396793</td>\n",
       "      <td>37</td>\n",
       "      <td>0.027267</td>\n",
       "      <td>1070</td>\n",
       "      <td>NaN</td>\n",
       "      <td>14.0</td>\n",
       "      <td>0</td>\n",
       "      <td>295140$1396793</td>\n",
       "    </tr>\n",
       "    <tr>\n",
       "      <th>1</th>\n",
       "      <td>65291</td>\n",
       "      <td>1396586</td>\n",
       "      <td>38</td>\n",
       "      <td>0.050415</td>\n",
       "      <td>698</td>\n",
       "      <td>NaN</td>\n",
       "      <td>14.0</td>\n",
       "      <td>0</td>\n",
       "      <td>65291$1396586</td>\n",
       "    </tr>\n",
       "    <tr>\n",
       "      <th>2</th>\n",
       "      <td>39232</td>\n",
       "      <td>1396244</td>\n",
       "      <td>38</td>\n",
       "      <td>0.087280</td>\n",
       "      <td>837</td>\n",
       "      <td>NaN</td>\n",
       "      <td>14.0</td>\n",
       "      <td>0</td>\n",
       "      <td>39232$1396244</td>\n",
       "    </tr>\n",
       "    <tr>\n",
       "      <th>3</th>\n",
       "      <td>39232</td>\n",
       "      <td>1396513</td>\n",
       "      <td>38</td>\n",
       "      <td>0.087280</td>\n",
       "      <td>837</td>\n",
       "      <td>NaN</td>\n",
       "      <td>14.0</td>\n",
       "      <td>0</td>\n",
       "      <td>39232$1396513</td>\n",
       "    </tr>\n",
       "    <tr>\n",
       "      <th>4</th>\n",
       "      <td>65052</td>\n",
       "      <td>1396237</td>\n",
       "      <td>38</td>\n",
       "      <td>0.079773</td>\n",
       "      <td>1085</td>\n",
       "      <td>NaN</td>\n",
       "      <td>14.0</td>\n",
       "      <td>0</td>\n",
       "      <td>65052$1396237</td>\n",
       "    </tr>\n",
       "    <tr>\n",
       "      <th>5</th>\n",
       "      <td>90396</td>\n",
       "      <td>1396237</td>\n",
       "      <td>38</td>\n",
       "      <td>0.079773</td>\n",
       "      <td>350</td>\n",
       "      <td>NaN</td>\n",
       "      <td>14.0</td>\n",
       "      <td>0</td>\n",
       "      <td>90396$1396237</td>\n",
       "    </tr>\n",
       "    <tr>\n",
       "      <th>6</th>\n",
       "      <td>373848</td>\n",
       "      <td>1396822</td>\n",
       "      <td>39</td>\n",
       "      <td>0.000035</td>\n",
       "      <td>1391</td>\n",
       "      <td>NaN</td>\n",
       "      <td>14.0</td>\n",
       "      <td>0</td>\n",
       "      <td>373848$1396822</td>\n",
       "    </tr>\n",
       "    <tr>\n",
       "      <th>7</th>\n",
       "      <td>295140</td>\n",
       "      <td>1396237</td>\n",
       "      <td>39</td>\n",
       "      <td>0.065979</td>\n",
       "      <td>1070</td>\n",
       "      <td>NaN</td>\n",
       "      <td>14.0</td>\n",
       "      <td>0</td>\n",
       "      <td>295140$1396237</td>\n",
       "    </tr>\n",
       "    <tr>\n",
       "      <th>8</th>\n",
       "      <td>142712</td>\n",
       "      <td>717657</td>\n",
       "      <td>40</td>\n",
       "      <td>0.000370</td>\n",
       "      <td>14566</td>\n",
       "      <td>31840.0</td>\n",
       "      <td>2.0</td>\n",
       "      <td>0</td>\n",
       "      <td>142712$717657</td>\n",
       "    </tr>\n",
       "    <tr>\n",
       "      <th>9</th>\n",
       "      <td>64799</td>\n",
       "      <td>1396335</td>\n",
       "      <td>40</td>\n",
       "      <td>0.047699</td>\n",
       "      <td>348</td>\n",
       "      <td>NaN</td>\n",
       "      <td>14.0</td>\n",
       "      <td>0</td>\n",
       "      <td>64799$1396335</td>\n",
       "    </tr>\n",
       "  </tbody>\n",
       "</table>\n",
       "</div>"
      ],
      "text/plain": [
       "   offer_depersanalised  goods_depersanalised  ...  target              id\n",
       "0                295140               1396793  ...       0  295140$1396793\n",
       "1                 65291               1396586  ...       0   65291$1396586\n",
       "2                 39232               1396244  ...       0   39232$1396244\n",
       "3                 39232               1396513  ...       0   39232$1396513\n",
       "4                 65052               1396237  ...       0   65052$1396237\n",
       "5                 90396               1396237  ...       0   90396$1396237\n",
       "6                373848               1396822  ...       0  373848$1396822\n",
       "7                295140               1396237  ...       0  295140$1396237\n",
       "8                142712                717657  ...       0   142712$717657\n",
       "9                 64799               1396335  ...       0   64799$1396335\n",
       "\n",
       "[10 rows x 9 columns]"
      ]
     },
     "metadata": {},
     "output_type": "display_data"
    },
    {
     "name": "stdout",
     "output_type": "stream",
     "text": [
      "****************************************************************************************************\n",
      "                                         Информация о типах и количестве данных\n",
      "\n",
      "<class 'pandas.core.frame.DataFrame'>\n",
      "RangeIndex: 2518441 entries, 0 to 2518440\n",
      "Data columns (total 9 columns):\n",
      " #   Column                Dtype  \n",
      "---  ------                -----  \n",
      " 0   offer_depersanalised  int64  \n",
      " 1   goods_depersanalised  int64  \n",
      " 2   sum_length            int64  \n",
      " 3   attrs+title_score     float64\n",
      " 4   offer_price           int64  \n",
      " 5   goods_price           float64\n",
      " 6   goods_category_id     float64\n",
      " 7   target                int64  \n",
      " 8   id                    object \n",
      "dtypes: float64(3), int64(5), object(1)\n",
      "memory usage: 172.9+ MB\n"
     ]
    },
    {
     "data": {
      "text/plain": [
       "None"
      ]
     },
     "metadata": {},
     "output_type": "display_data"
    },
    {
     "name": "stdout",
     "output_type": "stream",
     "text": [
      "****************************************************************************************************\n",
      "                                         Описательные статистики\n"
     ]
    },
    {
     "data": {
      "text/html": [
       "<div>\n",
       "<style scoped>\n",
       "    .dataframe tbody tr th:only-of-type {\n",
       "        vertical-align: middle;\n",
       "    }\n",
       "\n",
       "    .dataframe tbody tr th {\n",
       "        vertical-align: top;\n",
       "    }\n",
       "\n",
       "    .dataframe thead th {\n",
       "        text-align: right;\n",
       "    }\n",
       "</style>\n",
       "<table border=\"1\" class=\"dataframe\">\n",
       "  <thead>\n",
       "    <tr style=\"text-align: right;\">\n",
       "      <th></th>\n",
       "      <th>offer_depersanalised</th>\n",
       "      <th>goods_depersanalised</th>\n",
       "      <th>sum_length</th>\n",
       "      <th>attrs+title_score</th>\n",
       "      <th>offer_price</th>\n",
       "      <th>goods_price</th>\n",
       "      <th>goods_category_id</th>\n",
       "      <th>target</th>\n",
       "    </tr>\n",
       "  </thead>\n",
       "  <tbody>\n",
       "    <tr>\n",
       "      <th>count</th>\n",
       "      <td>2.518441e+06</td>\n",
       "      <td>2.518441e+06</td>\n",
       "      <td>2.518441e+06</td>\n",
       "      <td>2.518441e+06</td>\n",
       "      <td>2.518441e+06</td>\n",
       "      <td>2.111154e+06</td>\n",
       "      <td>2.517608e+06</td>\n",
       "      <td>2.518441e+06</td>\n",
       "    </tr>\n",
       "    <tr>\n",
       "      <th>mean</th>\n",
       "      <td>2.861906e+05</td>\n",
       "      <td>8.761657e+05</td>\n",
       "      <td>5.870672e+02</td>\n",
       "      <td>1.287538e-01</td>\n",
       "      <td>9.362961e+05</td>\n",
       "      <td>4.798429e+04</td>\n",
       "      <td>4.873336e+12</td>\n",
       "      <td>1.169942e-01</td>\n",
       "    </tr>\n",
       "    <tr>\n",
       "      <th>std</th>\n",
       "      <td>1.653314e+05</td>\n",
       "      <td>5.122913e+05</td>\n",
       "      <td>4.265811e+02</td>\n",
       "      <td>2.644693e-01</td>\n",
       "      <td>9.569629e+06</td>\n",
       "      <td>7.939302e+06</td>\n",
       "      <td>1.094651e+14</td>\n",
       "      <td>3.214134e-01</td>\n",
       "    </tr>\n",
       "    <tr>\n",
       "      <th>min</th>\n",
       "      <td>0.000000e+00</td>\n",
       "      <td>0.000000e+00</td>\n",
       "      <td>3.700000e+01</td>\n",
       "      <td>3.147125e-05</td>\n",
       "      <td>1.010000e+02</td>\n",
       "      <td>1.010000e+02</td>\n",
       "      <td>2.000000e+00</td>\n",
       "      <td>0.000000e+00</td>\n",
       "    </tr>\n",
       "    <tr>\n",
       "      <th>25%</th>\n",
       "      <td>1.429530e+05</td>\n",
       "      <td>4.234650e+05</td>\n",
       "      <td>2.310000e+02</td>\n",
       "      <td>3.564358e-05</td>\n",
       "      <td>9.900000e+02</td>\n",
       "      <td>6.650000e+02</td>\n",
       "      <td>5.000000e+00</td>\n",
       "      <td>0.000000e+00</td>\n",
       "    </tr>\n",
       "    <tr>\n",
       "      <th>50%</th>\n",
       "      <td>2.864410e+05</td>\n",
       "      <td>8.708360e+05</td>\n",
       "      <td>5.070000e+02</td>\n",
       "      <td>1.080632e-04</td>\n",
       "      <td>2.838000e+03</td>\n",
       "      <td>1.780000e+03</td>\n",
       "      <td>6.000000e+00</td>\n",
       "      <td>0.000000e+00</td>\n",
       "    </tr>\n",
       "    <tr>\n",
       "      <th>75%</th>\n",
       "      <td>4.292430e+05</td>\n",
       "      <td>1.307631e+06</td>\n",
       "      <td>8.070000e+02</td>\n",
       "      <td>5.282593e-02</td>\n",
       "      <td>9.300000e+03</td>\n",
       "      <td>6.516000e+03</td>\n",
       "      <td>1.400000e+01</td>\n",
       "      <td>0.000000e+00</td>\n",
       "    </tr>\n",
       "    <tr>\n",
       "      <th>max</th>\n",
       "      <td>5.727660e+05</td>\n",
       "      <td>1.760567e+06</td>\n",
       "      <td>7.829000e+03</td>\n",
       "      <td>9.975586e-01</td>\n",
       "      <td>1.000001e+08</td>\n",
       "      <td>2.106021e+09</td>\n",
       "      <td>2.463685e+15</td>\n",
       "      <td>1.000000e+00</td>\n",
       "    </tr>\n",
       "  </tbody>\n",
       "</table>\n",
       "</div>"
      ],
      "text/plain": [
       "       offer_depersanalised  ...        target\n",
       "count          2.518441e+06  ...  2.518441e+06\n",
       "mean           2.861906e+05  ...  1.169942e-01\n",
       "std            1.653314e+05  ...  3.214134e-01\n",
       "min            0.000000e+00  ...  0.000000e+00\n",
       "25%            1.429530e+05  ...  0.000000e+00\n",
       "50%            2.864410e+05  ...  0.000000e+00\n",
       "75%            4.292430e+05  ...  0.000000e+00\n",
       "max            5.727660e+05  ...  1.000000e+00\n",
       "\n",
       "[8 rows x 8 columns]"
      ]
     },
     "metadata": {},
     "output_type": "display_data"
    },
    {
     "name": "stdout",
     "output_type": "stream",
     "text": [
      "****************************************************************************************************\n",
      "Количество явных дубликатов: 0\n",
      "Количество пропусков:\n",
      "offer_depersanalised         0\n",
      "goods_depersanalised         0\n",
      "sum_length                   0\n",
      "attrs+title_score            0\n",
      "offer_price                  0\n",
      "goods_price             407287\n",
      "goods_category_id          833\n",
      "target                       0\n",
      "id                           0\n",
      "dtype: int64\n",
      "****************************************************************************************************\n"
     ]
    },
    {
     "data": {
      "image/png": "[encoded data removed]",
      "text/plain": [
       "<Figure size 1440x720 with 9 Axes>"
      ]
     },
     "metadata": {
      "needs_background": "light"
     },
     "output_type": "display_data"
    }
   ],
   "source": [
    "# общая информация по обучающей выборке\n",
    "info(train)"
   ]
  },
  {
   "cell_type": "code",
   "execution_count": 6,
   "id": "f5d6738e-981a-466a-9b85-f777c9fe5c74",
   "metadata": {
    "execution": {
     "iopub.execute_input": "2024-02-14T09:41:36.310255Z",
     "iopub.status.busy": "2024-02-14T09:41:36.309921Z",
     "iopub.status.idle": "2024-02-14T09:41:38.300484Z",
     "shell.execute_reply": "2024-02-14T09:41:38.299832Z",
     "shell.execute_reply.started": "2024-02-14T09:41:36.310225Z"
    },
    "tags": []
   },
   "outputs": [
    {
     "name": "stdout",
     "output_type": "stream",
     "text": [
      "                                         Первые 10 строк датасета\n"
     ]
    },
    {
     "data": {
      "text/html": [
       "<div>\n",
       "<style scoped>\n",
       "    .dataframe tbody tr th:only-of-type {\n",
       "        vertical-align: middle;\n",
       "    }\n",
       "\n",
       "    .dataframe tbody tr th {\n",
       "        vertical-align: top;\n",
       "    }\n",
       "\n",
       "    .dataframe thead th {\n",
       "        text-align: right;\n",
       "    }\n",
       "</style>\n",
       "<table border=\"1\" class=\"dataframe\">\n",
       "  <thead>\n",
       "    <tr style=\"text-align: right;\">\n",
       "      <th></th>\n",
       "      <th>offer_depersanalised</th>\n",
       "      <th>goods_depersanalised</th>\n",
       "      <th>sum_length</th>\n",
       "      <th>attrs+title_score</th>\n",
       "      <th>offer_price</th>\n",
       "      <th>goods_price</th>\n",
       "      <th>goods_category_id</th>\n",
       "      <th>id</th>\n",
       "    </tr>\n",
       "  </thead>\n",
       "  <tbody>\n",
       "    <tr>\n",
       "      <th>0</th>\n",
       "      <td>64819</td>\n",
       "      <td>1396468</td>\n",
       "      <td>38</td>\n",
       "      <td>0.046997</td>\n",
       "      <td>368</td>\n",
       "      <td>NaN</td>\n",
       "      <td>14.0</td>\n",
       "      <td>64819$1396468</td>\n",
       "    </tr>\n",
       "    <tr>\n",
       "      <th>1</th>\n",
       "      <td>64819</td>\n",
       "      <td>1396235</td>\n",
       "      <td>38</td>\n",
       "      <td>0.046997</td>\n",
       "      <td>368</td>\n",
       "      <td>NaN</td>\n",
       "      <td>14.0</td>\n",
       "      <td>64819$1396235</td>\n",
       "    </tr>\n",
       "    <tr>\n",
       "      <th>2</th>\n",
       "      <td>64819</td>\n",
       "      <td>1396318</td>\n",
       "      <td>38</td>\n",
       "      <td>0.046997</td>\n",
       "      <td>368</td>\n",
       "      <td>NaN</td>\n",
       "      <td>14.0</td>\n",
       "      <td>64819$1396318</td>\n",
       "    </tr>\n",
       "    <tr>\n",
       "      <th>3</th>\n",
       "      <td>359959</td>\n",
       "      <td>1396281</td>\n",
       "      <td>40</td>\n",
       "      <td>0.060211</td>\n",
       "      <td>634</td>\n",
       "      <td>NaN</td>\n",
       "      <td>14.0</td>\n",
       "      <td>359959$1396281</td>\n",
       "    </tr>\n",
       "    <tr>\n",
       "      <th>4</th>\n",
       "      <td>142700</td>\n",
       "      <td>717657</td>\n",
       "      <td>40</td>\n",
       "      <td>0.000370</td>\n",
       "      <td>14924</td>\n",
       "      <td>31840.0</td>\n",
       "      <td>2.0</td>\n",
       "      <td>142700$717657</td>\n",
       "    </tr>\n",
       "    <tr>\n",
       "      <th>5</th>\n",
       "      <td>142713</td>\n",
       "      <td>717657</td>\n",
       "      <td>40</td>\n",
       "      <td>0.000370</td>\n",
       "      <td>13759</td>\n",
       "      <td>31840.0</td>\n",
       "      <td>2.0</td>\n",
       "      <td>142713$717657</td>\n",
       "    </tr>\n",
       "    <tr>\n",
       "      <th>6</th>\n",
       "      <td>230214</td>\n",
       "      <td>717657</td>\n",
       "      <td>40</td>\n",
       "      <td>0.000370</td>\n",
       "      <td>17595</td>\n",
       "      <td>31840.0</td>\n",
       "      <td>2.0</td>\n",
       "      <td>230214$717657</td>\n",
       "    </tr>\n",
       "    <tr>\n",
       "      <th>7</th>\n",
       "      <td>106880</td>\n",
       "      <td>1396551</td>\n",
       "      <td>40</td>\n",
       "      <td>0.043274</td>\n",
       "      <td>357</td>\n",
       "      <td>NaN</td>\n",
       "      <td>14.0</td>\n",
       "      <td>106880$1396551</td>\n",
       "    </tr>\n",
       "    <tr>\n",
       "      <th>8</th>\n",
       "      <td>460062</td>\n",
       "      <td>1396292</td>\n",
       "      <td>41</td>\n",
       "      <td>0.000085</td>\n",
       "      <td>927</td>\n",
       "      <td>NaN</td>\n",
       "      <td>14.0</td>\n",
       "      <td>460062$1396292</td>\n",
       "    </tr>\n",
       "    <tr>\n",
       "      <th>9</th>\n",
       "      <td>142719</td>\n",
       "      <td>717657</td>\n",
       "      <td>47</td>\n",
       "      <td>0.000036</td>\n",
       "      <td>8600</td>\n",
       "      <td>31840.0</td>\n",
       "      <td>2.0</td>\n",
       "      <td>142719$717657</td>\n",
       "    </tr>\n",
       "  </tbody>\n",
       "</table>\n",
       "</div>"
      ],
      "text/plain": [
       "   offer_depersanalised  ...              id\n",
       "0                 64819  ...   64819$1396468\n",
       "1                 64819  ...   64819$1396235\n",
       "2                 64819  ...   64819$1396318\n",
       "3                359959  ...  359959$1396281\n",
       "4                142700  ...   142700$717657\n",
       "5                142713  ...   142713$717657\n",
       "6                230214  ...   230214$717657\n",
       "7                106880  ...  106880$1396551\n",
       "8                460062  ...  460062$1396292\n",
       "9                142719  ...   142719$717657\n",
       "\n",
       "[10 rows x 8 columns]"
      ]
     },
     "metadata": {},
     "output_type": "display_data"
    },
    {
     "name": "stdout",
     "output_type": "stream",
     "text": [
      "****************************************************************************************************\n",
      "                                         Информация о типах и количестве данных\n",
      "\n",
      "<class 'pandas.core.frame.DataFrame'>\n",
      "RangeIndex: 363835 entries, 0 to 363834\n",
      "Data columns (total 8 columns):\n",
      " #   Column                Non-Null Count   Dtype  \n",
      "---  ------                --------------   -----  \n",
      " 0   offer_depersanalised  363835 non-null  int64  \n",
      " 1   goods_depersanalised  363835 non-null  int64  \n",
      " 2   sum_length            363835 non-null  int64  \n",
      " 3   attrs+title_score     363835 non-null  float64\n",
      " 4   offer_price           363835 non-null  int64  \n",
      " 5   goods_price           304864 non-null  float64\n",
      " 6   goods_category_id     363704 non-null  float64\n",
      " 7   id                    363835 non-null  object \n",
      "dtypes: float64(3), int64(4), object(1)\n",
      "memory usage: 22.2+ MB\n"
     ]
    },
    {
     "data": {
      "text/plain": [
       "None"
      ]
     },
     "metadata": {},
     "output_type": "display_data"
    },
    {
     "name": "stdout",
     "output_type": "stream",
     "text": [
      "****************************************************************************************************\n",
      "                                         Описательные статистики\n"
     ]
    },
    {
     "data": {
      "text/html": [
       "<div>\n",
       "<style scoped>\n",
       "    .dataframe tbody tr th:only-of-type {\n",
       "        vertical-align: middle;\n",
       "    }\n",
       "\n",
       "    .dataframe tbody tr th {\n",
       "        vertical-align: top;\n",
       "    }\n",
       "\n",
       "    .dataframe thead th {\n",
       "        text-align: right;\n",
       "    }\n",
       "</style>\n",
       "<table border=\"1\" class=\"dataframe\">\n",
       "  <thead>\n",
       "    <tr style=\"text-align: right;\">\n",
       "      <th></th>\n",
       "      <th>offer_depersanalised</th>\n",
       "      <th>goods_depersanalised</th>\n",
       "      <th>sum_length</th>\n",
       "      <th>attrs+title_score</th>\n",
       "      <th>offer_price</th>\n",
       "      <th>goods_price</th>\n",
       "      <th>goods_category_id</th>\n",
       "    </tr>\n",
       "  </thead>\n",
       "  <tbody>\n",
       "    <tr>\n",
       "      <th>count</th>\n",
       "      <td>363835.000000</td>\n",
       "      <td>3.638350e+05</td>\n",
       "      <td>363835.000000</td>\n",
       "      <td>363835.000000</td>\n",
       "      <td>3.638350e+05</td>\n",
       "      <td>3.048640e+05</td>\n",
       "      <td>3.637040e+05</td>\n",
       "    </tr>\n",
       "    <tr>\n",
       "      <th>mean</th>\n",
       "      <td>286850.598678</td>\n",
       "      <td>8.771147e+05</td>\n",
       "      <td>583.423703</td>\n",
       "      <td>0.128098</td>\n",
       "      <td>9.583577e+05</td>\n",
       "      <td>3.089512e+04</td>\n",
       "      <td>5.100726e+12</td>\n",
       "    </tr>\n",
       "    <tr>\n",
       "      <th>std</th>\n",
       "      <td>165256.359873</td>\n",
       "      <td>5.118925e+05</td>\n",
       "      <td>423.870065</td>\n",
       "      <td>0.264238</td>\n",
       "      <td>9.683426e+06</td>\n",
       "      <td>5.866152e+06</td>\n",
       "      <td>1.119848e+14</td>\n",
       "    </tr>\n",
       "    <tr>\n",
       "      <th>min</th>\n",
       "      <td>1.000000</td>\n",
       "      <td>1.800000e+01</td>\n",
       "      <td>38.000000</td>\n",
       "      <td>0.000032</td>\n",
       "      <td>1.010000e+02</td>\n",
       "      <td>1.010000e+02</td>\n",
       "      <td>2.000000e+00</td>\n",
       "    </tr>\n",
       "    <tr>\n",
       "      <th>25%</th>\n",
       "      <td>144092.000000</td>\n",
       "      <td>4.249365e+05</td>\n",
       "      <td>231.000000</td>\n",
       "      <td>0.000035</td>\n",
       "      <td>9.820000e+02</td>\n",
       "      <td>6.630000e+02</td>\n",
       "      <td>5.000000e+00</td>\n",
       "    </tr>\n",
       "    <tr>\n",
       "      <th>50%</th>\n",
       "      <td>286456.000000</td>\n",
       "      <td>8.707780e+05</td>\n",
       "      <td>504.000000</td>\n",
       "      <td>0.000103</td>\n",
       "      <td>2.832000e+03</td>\n",
       "      <td>1.770000e+03</td>\n",
       "      <td>6.000000e+00</td>\n",
       "    </tr>\n",
       "    <tr>\n",
       "      <th>75%</th>\n",
       "      <td>429787.000000</td>\n",
       "      <td>1.307888e+06</td>\n",
       "      <td>800.000000</td>\n",
       "      <td>0.050140</td>\n",
       "      <td>9.321000e+03</td>\n",
       "      <td>6.550000e+03</td>\n",
       "      <td>1.400000e+01</td>\n",
       "    </tr>\n",
       "    <tr>\n",
       "      <th>max</th>\n",
       "      <td>572765.000000</td>\n",
       "      <td>1.760562e+06</td>\n",
       "      <td>6175.000000</td>\n",
       "      <td>0.997070</td>\n",
       "      <td>1.000001e+08</td>\n",
       "      <td>1.638016e+09</td>\n",
       "      <td>2.463685e+15</td>\n",
       "    </tr>\n",
       "  </tbody>\n",
       "</table>\n",
       "</div>"
      ],
      "text/plain": [
       "       offer_depersanalised  ...  goods_category_id\n",
       "count         363835.000000  ...       3.637040e+05\n",
       "mean          286850.598678  ...       5.100726e+12\n",
       "std           165256.359873  ...       1.119848e+14\n",
       "min                1.000000  ...       2.000000e+00\n",
       "25%           144092.000000  ...       5.000000e+00\n",
       "50%           286456.000000  ...       6.000000e+00\n",
       "75%           429787.000000  ...       1.400000e+01\n",
       "max           572765.000000  ...       2.463685e+15\n",
       "\n",
       "[8 rows x 7 columns]"
      ]
     },
     "metadata": {},
     "output_type": "display_data"
    },
    {
     "name": "stdout",
     "output_type": "stream",
     "text": [
      "****************************************************************************************************\n",
      "Количество явных дубликатов: 0\n",
      "Количество пропусков:\n",
      "offer_depersanalised        0\n",
      "goods_depersanalised        0\n",
      "sum_length                  0\n",
      "attrs+title_score           0\n",
      "offer_price                 0\n",
      "goods_price             58971\n",
      "goods_category_id         131\n",
      "id                          0\n",
      "dtype: int64\n",
      "****************************************************************************************************\n"
     ]
    },
    {
     "data": {
      "image/png": "[encoded data removed]",
      "text/plain": [
       "<Figure size 1440x720 with 9 Axes>"
      ]
     },
     "metadata": {
      "needs_background": "light"
     },
     "output_type": "display_data"
    }
   ],
   "source": [
    "# общая информация по тестовой выборке\n",
    "info(test)"
   ]
  },
  {
   "cell_type": "markdown",
   "id": "2c863549-fea6-469e-bfd9-02dae39f09f6",
   "metadata": {},
   "source": [
    "Посмотрим на баланс классов:"
   ]
  },
  {
   "cell_type": "code",
   "execution_count": 7,
   "id": "3a610d33-135f-40ff-a462-c175970f9aa8",
   "metadata": {
    "execution": {
     "iopub.execute_input": "2024-02-14T09:41:38.302187Z",
     "iopub.status.busy": "2024-02-14T09:41:38.301406Z",
     "iopub.status.idle": "2024-02-14T09:41:38.427889Z",
     "shell.execute_reply": "2024-02-14T09:41:38.427123Z",
     "shell.execute_reply.started": "2024-02-14T09:41:38.302149Z"
    },
    "tags": []
   },
   "outputs": [
    {
     "data": {
      "image/png": "[encoded data removed]",
      "text/plain": [
       "<Figure size 504x360 with 1 Axes>"
      ]
     },
     "metadata": {
      "needs_background": "light"
     },
     "output_type": "display_data"
    }
   ],
   "source": [
    "colors = ['blue', 'red']\n",
    "train['target'].value_counts().plot(kind='bar', figsize=(7, 5), color=colors)\n",
    "plt.ylabel('Количество наблюдений')\n",
    "plt.title('Баланс классов целевого признака')\n",
    "plt.xticks([0, 1], ['Match', 'Not match'], rotation = 0)\n",
    "plt.show()"
   ]
  },
  {
   "cell_type": "markdown",
   "id": "52cce990-dc51-480c-8ff2-393503eb7d28",
   "metadata": {
    "tags": []
   },
   "source": [
    "Наблюдается явный дисбаланс классов,попробуем решить проблему с помощью настройки гиперпараметров модели (обычно данный вариант приводит к лучшей метрике, чем  upsampling/downsampling). Также стоит попробовать изменить порог классификации. \n",
    "\n",
    "Посмотрим на массивы данных:"
   ]
  },
  {
   "cell_type": "code",
   "execution_count": 8,
   "id": "8cfca3f3-d24f-4e10-be0a-c92a9dc12c42",
   "metadata": {
    "execution": {
     "iopub.execute_input": "2024-02-14T09:41:38.431319Z",
     "iopub.status.busy": "2024-02-14T09:41:38.430615Z",
     "iopub.status.idle": "2024-02-14T09:41:40.678159Z",
     "shell.execute_reply": "2024-02-14T09:41:40.677432Z",
     "shell.execute_reply.started": "2024-02-14T09:41:38.431293Z"
    },
    "tags": []
   },
   "outputs": [
    {
     "name": "stdout",
     "output_type": "stream",
     "text": [
      "Вектора изображений товаров ассортимента:\n",
      "Объем массива: (317707, 256)\n",
      "Тип данных массива: float32\n",
      "Размерность массива: 2\n",
      "Массив не нормализован.\n",
      "****************************************************************************************************\n",
      "ID векторов изображений товаров ассортимента:\n",
      "Объем массива: (317707,)\n",
      "Тип данных массива: <U7\n",
      "Размерность массива: 1\n",
      "Массив не нормализован.\n",
      "****************************************************************************************************\n",
      "Вектора изображений товаров предложения:\n",
      "Объем массива: (457586, 256)\n",
      "Тип данных массива: float32\n",
      "Размерность массива: 2\n",
      "Массив не нормализован.\n",
      "****************************************************************************************************\n",
      "ID векторов изображений товаров предложения:\n",
      "Объем массива: (457586,)\n",
      "Тип данных массива: <U6\n",
      "Размерность массива: 1\n",
      "Массив не нормализован.\n",
      "****************************************************************************************************\n",
      "Вектора названий+атрибутов товаров ассортимента:\n",
      "Объем массива: (1760568, 64)\n",
      "Тип данных массива: float16\n",
      "Размерность массива: 2\n",
      "Массив не нормализован.\n",
      "****************************************************************************************************\n",
      "ID векторов названий+атрибутов товаров ассортимента:\n",
      "Объем массива: (1760568,)\n",
      "Тип данных массива: <U7\n",
      "Размерность массива: 1\n",
      "Массив не нормализован.\n",
      "****************************************************************************************************\n",
      "Вектора названий+атрибутов товаров предложения:\n",
      "Объем массива: (572767, 64)\n",
      "Тип данных массива: float16\n",
      "Размерность массива: 2\n",
      "Массив не нормализован.\n",
      "****************************************************************************************************\n",
      "ID векторов названий+атрибутов товаров предложения:\n",
      "Объем массива: (572767,)\n",
      "Тип данных массива: <U6\n",
      "Размерность массива: 1\n",
      "Массив не нормализован.\n",
      "****************************************************************************************************\n"
     ]
    }
   ],
   "source": [
    "# создадим словарь с массивами\n",
    "arrays_dict = {\"Вектора изображений товаров ассортимента\": goods_image_vectors, \n",
    "               \"ID векторов изображений товаров ассортимента\": goods_image_vectors_id,\n",
    "               \"Вектора изображений товаров предложения\":offer_image_vectors,\n",
    "               \"ID векторов изображений товаров предложения\":offer_image_vectors_id,\n",
    "               \"Вектора названий+атрибутов товаров ассортимента\":goods_title_vectors,\n",
    "               \"ID векторов названий+атрибутов товаров ассортимента\":goods_title_vectors_id,\n",
    "               \"Вектора названий+атрибутов товаров предложения\":offer_title_vectors,\n",
    "               \"ID векторов названий+атрибутов товаров предложения\":offer_title_vectors_id}\n",
    "\n",
    "# выведем общую информацию о массивах\n",
    "info_array(arrays_dict)"
   ]
  },
  {
   "cell_type": "markdown",
   "id": "d4054589-6bbb-42c5-9733-358198b32f63",
   "metadata": {},
   "source": [
    "### Выводы:\n",
    "\n",
    "- Основная проблема данных - пропуски. Больше всего пропусков в эмбеддингах изображений товаров. Учитывая что товары могут повторяться в выборках, количество пропусков данного признаку может быть меньше в итоговом датасете. Также есть пропуски в цене товаров ассортимента, в id категорий товаров. Модели градиентного бустинга могут работать с датасетами, в которых присутствуют пропуски, но если итоговое качество будет низким, стоит рассмотреть вариант с заполнением пропусков синтетическими данными (например, с помощью регрессионных моделей).\n",
    "- В обучающей выборке наблюдается дисбаланс классов, необходимо протестировать варианты с балансом весов классов.\n",
    "- Вектора эмбеддингов в массивах необходимо будет нормализовать.\n",
    "- На графиках можно заметить слудующую особенность (обучающая выборка):на гистограмме goods_price есть достаточно большие значения цены, тогда как на гистограмме offer_price значения цены сосредоточены в основном в районе 0."
   ]
  },
  {
   "cell_type": "markdown",
   "id": "6e5e7b66-cc15-49e3-a3c5-a5992392e3eb",
   "metadata": {},
   "source": [
    "## Предобработка данных"
   ]
  },
  {
   "cell_type": "code",
   "execution_count": 9,
   "id": "cd8432a0-32e0-4572-9221-8220e4b3e3e1",
   "metadata": {
    "execution": {
     "iopub.execute_input": "2024-02-14T09:41:40.680448Z",
     "iopub.status.busy": "2024-02-14T09:41:40.679910Z",
     "iopub.status.idle": "2024-02-14T09:41:40.702306Z",
     "shell.execute_reply": "2024-02-14T09:41:40.701606Z",
     "shell.execute_reply.started": "2024-02-14T09:41:40.680419Z"
    },
    "tags": []
   },
   "outputs": [],
   "source": [
    "# функция для нахождения средней косинусной схожести между векторами\n",
    "\n",
    "def batch_mean_cosine_similarity(vector1, vector2, batch_size):\n",
    "    num_vectors = vector1.shape[0]\n",
    "    mean_similarities = []\n",
    "    for i in range(0, num_vectors, batch_size):\n",
    "        start = i\n",
    "        end = min(i + batch_size, num_vectors)\n",
    "        batch_similarity = cosine_similarity(vector1[start:end], vector2[start:end])\n",
    "        mean_similarity = np.mean(batch_similarity, axis=1)\n",
    "        mean_similarities.append(mean_similarity)\n",
    "    return np.concatenate(mean_similarities)  "
   ]
  },
  {
   "cell_type": "markdown",
   "id": "e75214cb-8a47-4ef3-91df-7ceaff4527ae",
   "metadata": {},
   "source": [
    "Нормализуем эмбеддинги текстов и изображений для стабилизации обучения моделей:"
   ]
  },
  {
   "cell_type": "code",
   "execution_count": 10,
   "id": "9b5cc26f-76dd-4e59-9c8e-c08973cb143f",
   "metadata": {
    "execution": {
     "iopub.execute_input": "2024-02-14T09:41:40.703586Z",
     "iopub.status.busy": "2024-02-14T09:41:40.703228Z",
     "iopub.status.idle": "2024-02-14T09:41:48.630110Z",
     "shell.execute_reply": "2024-02-14T09:41:48.629533Z",
     "shell.execute_reply.started": "2024-02-14T09:41:40.703561Z"
    },
    "tags": []
   },
   "outputs": [
    {
     "name": "stdout",
     "output_type": "stream",
     "text": [
      "Массив нормализован.\n",
      "Массив нормализован.\n",
      "Массив нормализован.\n",
      "Массив нормализован.\n"
     ]
    }
   ],
   "source": [
    "# создаем список массивов, которые необходимо нормализовать\n",
    "arrays = [goods_image_vectors, goods_title_vectors, offer_image_vectors, offer_title_vectors]\n",
    "\n",
    "# нормализуем массивы\n",
    "for i in range(len(arrays)):\n",
    "    arrays[i] = normalize(arrays[i], norm='l2')\n",
    "    \n",
    "    if np.all((arrays[i] >= -1) & (arrays[i] <= 1)):\n",
    "        print(\"Массив нормализован.\")\n",
    "    else:\n",
    "        print(\"Массив не нормализован.\")\n",
    "\n",
    "# присваиваем нормализованные массивы обратно исходным переменным\n",
    "goods_image_vectors, goods_title_vectors, offer_image_vectors, offer_title_vectors = arrays"
   ]
  },
  {
   "cell_type": "markdown",
   "id": "6840edfc-719b-4f44-a8f9-c04a1d0391ef",
   "metadata": {},
   "source": [
    "Так как вектора и id соотносятся 1 к 1, создадим 4 датасета с id товара и вектором его изображения, вектором текстовых данных:"
   ]
  },
  {
   "cell_type": "code",
   "execution_count": 11,
   "id": "4e2e4a04-e6d6-4a69-922f-47e9aa6c7cf7",
   "metadata": {
    "execution": {
     "iopub.execute_input": "2024-02-14T09:41:48.631248Z",
     "iopub.status.busy": "2024-02-14T09:41:48.630864Z",
     "iopub.status.idle": "2024-02-14T09:41:50.020166Z",
     "shell.execute_reply": "2024-02-14T09:41:50.019430Z",
     "shell.execute_reply.started": "2024-02-14T09:41:48.631216Z"
    },
    "tags": []
   },
   "outputs": [],
   "source": [
    "# формируем датасеты с эмбендингами и идентификаторами\n",
    "goods_image = pd.DataFrame({\n",
    "    'goods_depersanalised': goods_image_vectors_id.astype('int64'),\n",
    "    'goods_image_vectors': list(goods_image_vectors)\n",
    "})\n",
    "\n",
    "goods_title = pd.DataFrame({\n",
    "    'goods_depersanalised': goods_title_vectors_id.astype('int64'),\n",
    "    'goods_title_vectors': list(goods_title_vectors)\n",
    "    })\n",
    "\n",
    "offer_image= pd.DataFrame({\n",
    "    'offer_depersanalised': offer_image_vectors_id.astype('int64'),\n",
    "    'offer_image_vectors': list(offer_image_vectors)\n",
    "    })\n",
    "\n",
    "offer_title = pd.DataFrame({\n",
    "    'offer_depersanalised': offer_title_vectors_id.astype('int64'),\n",
    "    'offer_title_vectors': list(offer_title_vectors)\n",
    "    })"
   ]
  },
  {
   "cell_type": "markdown",
   "id": "2254142b-7117-4d8c-8427-5cd79d1ab12d",
   "metadata": {},
   "source": [
    "Объединим датафреймы с табличными данными и эмбеддингами по id товаров:"
   ]
  },
  {
   "cell_type": "code",
   "execution_count": 12,
   "id": "9f419522-9d5e-46db-a12c-79d98366051c",
   "metadata": {
    "execution": {
     "iopub.execute_input": "2024-02-14T09:41:50.021617Z",
     "iopub.status.busy": "2024-02-14T09:41:50.020932Z",
     "iopub.status.idle": "2024-02-14T09:41:53.909571Z",
     "shell.execute_reply": "2024-02-14T09:41:53.908974Z",
     "shell.execute_reply.started": "2024-02-14T09:41:50.021582Z"
    },
    "tags": []
   },
   "outputs": [],
   "source": [
    "# обучающая выборка\n",
    "data = (\n",
    "    pd.merge(train, goods_image, on='goods_depersanalised', how='left')\n",
    "    .merge(goods_title, on='goods_depersanalised', how='left')\n",
    "    .merge(offer_image, on='offer_depersanalised', how='left')\n",
    "    .merge(offer_title, on='offer_depersanalised', how='left')\n",
    ")\n",
    "# тестовая выборка\n",
    "data_test = (\n",
    "    pd.merge(test, goods_image, on='goods_depersanalised', how='left')\n",
    "    .merge(goods_title, on='goods_depersanalised', how='left')\n",
    "    .merge(offer_image, on='offer_depersanalised', how='left')\n",
    "    .merge(offer_title, on='offer_depersanalised', how='left')\n",
    ")"
   ]
  },
  {
   "cell_type": "code",
   "execution_count": 13,
   "id": "92585678-31cf-4d34-8d43-200ce3cb142e",
   "metadata": {
    "execution": {
     "iopub.execute_input": "2024-02-14T09:41:53.910615Z",
     "iopub.status.busy": "2024-02-14T09:41:53.910296Z",
     "iopub.status.idle": "2024-02-14T09:41:54.171098Z",
     "shell.execute_reply": "2024-02-14T09:41:54.170534Z",
     "shell.execute_reply.started": "2024-02-14T09:41:53.910585Z"
    },
    "tags": []
   },
   "outputs": [
    {
     "name": "stdout",
     "output_type": "stream",
     "text": [
      "<class 'pandas.core.frame.DataFrame'>\n",
      "Int64Index: 2528964 entries, 0 to 2528963\n",
      "Data columns (total 13 columns):\n",
      " #   Column                Dtype  \n",
      "---  ------                -----  \n",
      " 0   offer_depersanalised  int64  \n",
      " 1   goods_depersanalised  int64  \n",
      " 2   sum_length            int64  \n",
      " 3   attrs+title_score     float64\n",
      " 4   offer_price           int64  \n",
      " 5   goods_price           float64\n",
      " 6   goods_category_id     float64\n",
      " 7   target                int64  \n",
      " 8   id                    object \n",
      " 9   goods_image_vectors   object \n",
      " 10  goods_title_vectors   object \n",
      " 11  offer_image_vectors   object \n",
      " 12  offer_title_vectors   object \n",
      "dtypes: float64(3), int64(5), object(5)\n",
      "memory usage: 270.1+ MB\n",
      "<class 'pandas.core.frame.DataFrame'>\n",
      "Int64Index: 365377 entries, 0 to 365376\n",
      "Data columns (total 12 columns):\n",
      " #   Column                Non-Null Count   Dtype  \n",
      "---  ------                --------------   -----  \n",
      " 0   offer_depersanalised  365377 non-null  int64  \n",
      " 1   goods_depersanalised  365377 non-null  int64  \n",
      " 2   sum_length            365377 non-null  int64  \n",
      " 3   attrs+title_score     365377 non-null  float64\n",
      " 4   offer_price           365377 non-null  int64  \n",
      " 5   goods_price           306391 non-null  float64\n",
      " 6   goods_category_id     365246 non-null  float64\n",
      " 7   id                    365377 non-null  object \n",
      " 8   goods_image_vectors   79916 non-null   object \n",
      " 9   goods_title_vectors   365377 non-null  object \n",
      " 10  offer_image_vectors   292607 non-null  object \n",
      " 11  offer_title_vectors   365377 non-null  object \n",
      "dtypes: float64(3), int64(4), object(5)\n",
      "memory usage: 36.2+ MB\n"
     ]
    },
    {
     "data": {
      "text/plain": [
       "(None, None)"
      ]
     },
     "execution_count": 13,
     "metadata": {},
     "output_type": "execute_result"
    }
   ],
   "source": [
    "data.info(), data_test.info()"
   ]
  },
  {
   "cell_type": "markdown",
   "id": "82e91ba7-e0a7-4578-93c8-2fd08e24540d",
   "metadata": {},
   "source": [
    "При объединении данных исходные выборки увеличились, а значит в данных образовались дубликаты, удалим их:"
   ]
  },
  {
   "cell_type": "code",
   "execution_count": 14,
   "id": "ca94ba40-7fc2-4246-b034-f3eae9763c90",
   "metadata": {
    "execution": {
     "iopub.execute_input": "2024-02-14T09:41:54.172751Z",
     "iopub.status.busy": "2024-02-14T09:41:54.172039Z",
     "iopub.status.idle": "2024-02-14T09:41:54.181795Z",
     "shell.execute_reply": "2024-02-14T09:41:54.181272Z",
     "shell.execute_reply.started": "2024-02-14T09:41:54.172716Z"
    },
    "tags": []
   },
   "outputs": [
    {
     "name": "stdout",
     "output_type": "stream",
     "text": [
      "Количество дубликатов в обучающей выборке: 10523\n",
      "Количество дубликатов в тестовой выборке: 1542\n"
     ]
    }
   ],
   "source": [
    "print('Количество дубликатов в обучающей выборке:', data.shape[0] - train.shape[0])\n",
    "print('Количество дубликатов в тестовой выборке:', data_test.shape[0] - test.shape[0])"
   ]
  },
  {
   "cell_type": "code",
   "execution_count": 15,
   "id": "50c76a36-fb50-44f1-be54-a9a7c2de0ddb",
   "metadata": {
    "execution": {
     "iopub.execute_input": "2024-02-14T09:41:54.183268Z",
     "iopub.status.busy": "2024-02-14T09:41:54.182578Z",
     "iopub.status.idle": "2024-02-14T09:41:56.855943Z",
     "shell.execute_reply": "2024-02-14T09:41:56.855343Z",
     "shell.execute_reply.started": "2024-02-14T09:41:54.183237Z"
    },
    "tags": []
   },
   "outputs": [],
   "source": [
    "# удаляем дубликаты в обучающей выборке\n",
    "data.drop_duplicates(subset=['offer_depersanalised','goods_depersanalised','sum_length','attrs+title_score','offer_price',\n",
    "                              'goods_price','goods_category_id','target', 'id'], inplace=True)\n",
    "\n",
    "# удаляем дубликаты в тестовой выборке\n",
    "data_test.drop_duplicates(subset=['offer_depersanalised','goods_depersanalised','sum_length','attrs+title_score','offer_price',\n",
    "                              'goods_price','goods_category_id','id'], inplace=True)"
   ]
  },
  {
   "cell_type": "code",
   "execution_count": 16,
   "id": "fe216107-ed08-4135-ad9a-30a3fef8fa85",
   "metadata": {
    "execution": {
     "iopub.execute_input": "2024-02-14T09:41:56.857274Z",
     "iopub.status.busy": "2024-02-14T09:41:56.856664Z",
     "iopub.status.idle": "2024-02-14T09:41:56.867961Z",
     "shell.execute_reply": "2024-02-14T09:41:56.867381Z",
     "shell.execute_reply.started": "2024-02-14T09:41:56.857233Z"
    },
    "tags": []
   },
   "outputs": [
    {
     "name": "stdout",
     "output_type": "stream",
     "text": [
      "Количество дубликатов в обучающей выборке: 0\n",
      "Количество дубликатов в тестовой выборке: 0\n"
     ]
    }
   ],
   "source": [
    "print('Количество дубликатов в обучающей выборке:', data.shape[0] - train.shape[0])\n",
    "print('Количество дубликатов в тестовой выборке:', data_test.shape[0] - test.shape[0])"
   ]
  },
  {
   "cell_type": "markdown",
   "id": "b26cc0a1-46be-4794-8ab6-39fdf19d5d2d",
   "metadata": {},
   "source": [
    "Посмотрим на получившийся датасет:"
   ]
  },
  {
   "cell_type": "code",
   "execution_count": 17,
   "id": "ec0e756d-e50e-4b19-9e21-ee0655b98464",
   "metadata": {
    "execution": {
     "iopub.execute_input": "2024-02-14T09:41:56.869316Z",
     "iopub.status.busy": "2024-02-14T09:41:56.868684Z",
     "iopub.status.idle": "2024-02-14T09:41:56.960120Z",
     "shell.execute_reply": "2024-02-14T09:41:56.959472Z",
     "shell.execute_reply.started": "2024-02-14T09:41:56.869277Z"
    },
    "tags": []
   },
   "outputs": [
    {
     "data": {
      "text/html": [
       "<div>\n",
       "<style scoped>\n",
       "    .dataframe tbody tr th:only-of-type {\n",
       "        vertical-align: middle;\n",
       "    }\n",
       "\n",
       "    .dataframe tbody tr th {\n",
       "        vertical-align: top;\n",
       "    }\n",
       "\n",
       "    .dataframe thead th {\n",
       "        text-align: right;\n",
       "    }\n",
       "</style>\n",
       "<table border=\"1\" class=\"dataframe\">\n",
       "  <thead>\n",
       "    <tr style=\"text-align: right;\">\n",
       "      <th></th>\n",
       "      <th>offer_depersanalised</th>\n",
       "      <th>goods_depersanalised</th>\n",
       "      <th>sum_length</th>\n",
       "      <th>attrs+title_score</th>\n",
       "      <th>offer_price</th>\n",
       "      <th>goods_price</th>\n",
       "      <th>goods_category_id</th>\n",
       "      <th>target</th>\n",
       "      <th>id</th>\n",
       "      <th>goods_image_vectors</th>\n",
       "      <th>goods_title_vectors</th>\n",
       "      <th>offer_image_vectors</th>\n",
       "      <th>offer_title_vectors</th>\n",
       "    </tr>\n",
       "  </thead>\n",
       "  <tbody>\n",
       "    <tr>\n",
       "      <th>988814</th>\n",
       "      <td>294774</td>\n",
       "      <td>177403</td>\n",
       "      <td>368</td>\n",
       "      <td>0.038971</td>\n",
       "      <td>857</td>\n",
       "      <td>470.0</td>\n",
       "      <td>14.0</td>\n",
       "      <td>0</td>\n",
       "      <td>294774$177403</td>\n",
       "      <td>NaN</td>\n",
       "      <td>[-0.1671, -0.0479, 0.05585, -0.1403, 0.0003507...</td>\n",
       "      <td>[0.017706204, 0.023082973, 0.06321741, -0.0780...</td>\n",
       "      <td>[0.01361, -0.1598, -0.0783, 0.0334, -0.04196, ...</td>\n",
       "    </tr>\n",
       "    <tr>\n",
       "      <th>2173321</th>\n",
       "      <td>507987</td>\n",
       "      <td>331062</td>\n",
       "      <td>1066</td>\n",
       "      <td>0.000039</td>\n",
       "      <td>1177</td>\n",
       "      <td>1690.0</td>\n",
       "      <td>8.0</td>\n",
       "      <td>0</td>\n",
       "      <td>507987$331062</td>\n",
       "      <td>NaN</td>\n",
       "      <td>[0.0004203, -0.0652, 0.0674, -0.1108, -0.04883...</td>\n",
       "      <td>[0.04264329, 0.026936794, 0.089325845, -0.0196...</td>\n",
       "      <td>[-0.059, 0.1653, -0.0884, -0.0665, 0.001812, 0...</td>\n",
       "    </tr>\n",
       "    <tr>\n",
       "      <th>2072995</th>\n",
       "      <td>18882</td>\n",
       "      <td>201951</td>\n",
       "      <td>956</td>\n",
       "      <td>0.780273</td>\n",
       "      <td>101</td>\n",
       "      <td>209.0</td>\n",
       "      <td>13.0</td>\n",
       "      <td>0</td>\n",
       "      <td>18882$201951</td>\n",
       "      <td>NaN</td>\n",
       "      <td>[0.0708, -0.0153, -0.09753, 0.21, -0.03366, -0...</td>\n",
       "      <td>NaN</td>\n",
       "      <td>[0.1802, 0.04187, 0.01775, 0.07086, -0.3484, 0...</td>\n",
       "    </tr>\n",
       "    <tr>\n",
       "      <th>98011</th>\n",
       "      <td>349991</td>\n",
       "      <td>269552</td>\n",
       "      <td>118</td>\n",
       "      <td>0.001060</td>\n",
       "      <td>65203</td>\n",
       "      <td>5999.0</td>\n",
       "      <td>21.0</td>\n",
       "      <td>0</td>\n",
       "      <td>349991$269552</td>\n",
       "      <td>NaN</td>\n",
       "      <td>[0.02798, -0.05994, -0.05966, 0.04135, -0.2498...</td>\n",
       "      <td>[0.09100595, 0.016220436, 0.030880213, 0.06426...</td>\n",
       "      <td>[0.04666, 0.1107, -0.1636, -0.3003, -0.004757,...</td>\n",
       "    </tr>\n",
       "    <tr>\n",
       "      <th>2095357</th>\n",
       "      <td>328991</td>\n",
       "      <td>1561522</td>\n",
       "      <td>979</td>\n",
       "      <td>0.000222</td>\n",
       "      <td>871</td>\n",
       "      <td>665.0</td>\n",
       "      <td>2.0</td>\n",
       "      <td>0</td>\n",
       "      <td>328991$1561522</td>\n",
       "      <td>NaN</td>\n",
       "      <td>[0.1794, -0.0406, 0.01791, 0.0378, -0.0438, -0...</td>\n",
       "      <td>[0.1072131, -0.016695905, 0.02824522, -0.04145...</td>\n",
       "      <td>[0.01511, 0.1328, -0.1287, 0.077, 0.02934, 0.0...</td>\n",
       "    </tr>\n",
       "    <tr>\n",
       "      <th>496106</th>\n",
       "      <td>357367</td>\n",
       "      <td>1526279</td>\n",
       "      <td>206</td>\n",
       "      <td>0.402100</td>\n",
       "      <td>3213</td>\n",
       "      <td>3847.0</td>\n",
       "      <td>5.0</td>\n",
       "      <td>1</td>\n",
       "      <td>357367$1526279</td>\n",
       "      <td>[-0.008712032, 0.0003542991, -0.020607851, -0....</td>\n",
       "      <td>[-0.08386, -0.009735, -0.1653, -0.031, -0.0225...</td>\n",
       "      <td>NaN</td>\n",
       "      <td>[-0.1572, -0.0448, -0.0009475, 0.1375, 0.2236,...</td>\n",
       "    </tr>\n",
       "    <tr>\n",
       "      <th>668255</th>\n",
       "      <td>457438</td>\n",
       "      <td>1475791</td>\n",
       "      <td>239</td>\n",
       "      <td>0.000036</td>\n",
       "      <td>850</td>\n",
       "      <td>NaN</td>\n",
       "      <td>5.0</td>\n",
       "      <td>0</td>\n",
       "      <td>457438$1475791</td>\n",
       "      <td>NaN</td>\n",
       "      <td>[-0.08417, 0.138, 0.1365, 0.07935, -0.2656, 0....</td>\n",
       "      <td>NaN</td>\n",
       "      <td>[-0.02806, -0.02751, 0.1681, 0.03564, -0.08185...</td>\n",
       "    </tr>\n",
       "  </tbody>\n",
       "</table>\n",
       "</div>"
      ],
      "text/plain": [
       "         offer_depersanalised  ...                                offer_title_vectors\n",
       "988814                 294774  ...  [0.01361, -0.1598, -0.0783, 0.0334, -0.04196, ...\n",
       "2173321                507987  ...  [-0.059, 0.1653, -0.0884, -0.0665, 0.001812, 0...\n",
       "2072995                 18882  ...  [0.1802, 0.04187, 0.01775, 0.07086, -0.3484, 0...\n",
       "98011                  349991  ...  [0.04666, 0.1107, -0.1636, -0.3003, -0.004757,...\n",
       "2095357                328991  ...  [0.01511, 0.1328, -0.1287, 0.077, 0.02934, 0.0...\n",
       "496106                 357367  ...  [-0.1572, -0.0448, -0.0009475, 0.1375, 0.2236,...\n",
       "668255                 457438  ...  [-0.02806, -0.02751, 0.1681, 0.03564, -0.08185...\n",
       "\n",
       "[7 rows x 13 columns]"
      ]
     },
     "execution_count": 17,
     "metadata": {},
     "output_type": "execute_result"
    }
   ],
   "source": [
    "data.sample(7)"
   ]
  },
  {
   "cell_type": "code",
   "execution_count": 18,
   "id": "ff2d24f8-5b6e-4199-a632-e1221478e219",
   "metadata": {
    "execution": {
     "iopub.execute_input": "2024-02-14T09:41:56.961487Z",
     "iopub.status.busy": "2024-02-14T09:41:56.960856Z",
     "iopub.status.idle": "2024-02-14T09:41:58.650461Z",
     "shell.execute_reply": "2024-02-14T09:41:58.649853Z",
     "shell.execute_reply.started": "2024-02-14T09:41:56.961450Z"
    },
    "tags": []
   },
   "outputs": [
    {
     "data": {
      "text/plain": [
       "goods_image_vectors     1972702\n",
       "offer_image_vectors      508182\n",
       "goods_price              407287\n",
       "goods_category_id           833\n",
       "offer_depersanalised          0\n",
       "goods_depersanalised          0\n",
       "sum_length                    0\n",
       "attrs+title_score             0\n",
       "offer_price                   0\n",
       "target                        0\n",
       "id                            0\n",
       "goods_title_vectors           0\n",
       "offer_title_vectors           0\n",
       "dtype: int64"
      ]
     },
     "execution_count": 18,
     "metadata": {},
     "output_type": "execute_result"
    }
   ],
   "source": [
    "data.isnull().sum().sort_values(ascending=False)"
   ]
  },
  {
   "cell_type": "code",
   "execution_count": 19,
   "id": "f02d295d-6d05-4752-87fd-4286a5778360",
   "metadata": {
    "execution": {
     "iopub.execute_input": "2024-02-14T09:41:58.652058Z",
     "iopub.status.busy": "2024-02-14T09:41:58.651358Z",
     "iopub.status.idle": "2024-02-14T09:41:58.894339Z",
     "shell.execute_reply": "2024-02-14T09:41:58.893693Z",
     "shell.execute_reply.started": "2024-02-14T09:41:58.652018Z"
    },
    "tags": []
   },
   "outputs": [
    {
     "data": {
      "text/plain": [
       "goods_image_vectors     285461\n",
       "offer_image_vectors      72580\n",
       "goods_price              58971\n",
       "goods_category_id          131\n",
       "offer_depersanalised         0\n",
       "goods_depersanalised         0\n",
       "sum_length                   0\n",
       "attrs+title_score            0\n",
       "offer_price                  0\n",
       "id                           0\n",
       "goods_title_vectors          0\n",
       "offer_title_vectors          0\n",
       "dtype: int64"
      ]
     },
     "execution_count": 19,
     "metadata": {},
     "output_type": "execute_result"
    }
   ],
   "source": [
    "data_test.isnull().sum().sort_values(ascending=False)"
   ]
  },
  {
   "cell_type": "code",
   "execution_count": 20,
   "id": "474dfa7a-a055-4063-a307-68fedf625e70",
   "metadata": {
    "execution": {
     "iopub.execute_input": "2024-02-14T09:41:58.895856Z",
     "iopub.status.busy": "2024-02-14T09:41:58.895235Z",
     "iopub.status.idle": "2024-02-14T09:41:59.011262Z",
     "shell.execute_reply": "2024-02-14T09:41:59.010684Z",
     "shell.execute_reply.started": "2024-02-14T09:41:58.895823Z"
    },
    "tags": []
   },
   "outputs": [
    {
     "name": "stdout",
     "output_type": "stream",
     "text": [
      "Количество пропусков в goods_image_vectors (обучающая выборка),%: 78.33\n",
      "Количество пропусков в goods_image_vectors (тестовая выборка),%: 78.46\n"
     ]
    }
   ],
   "source": [
    "print('Количество пропусков в goods_image_vectors (обучающая выборка),%:', round(data['goods_image_vectors'].isna().sum()/len(data)*100,2))\n",
    "print('Количество пропусков в goods_image_vectors (тестовая выборка),%:', round(data_test['goods_image_vectors'].isna().sum()/len(data_test)*100,2))"
   ]
  },
  {
   "cell_type": "markdown",
   "id": "f49be6bd-b106-43c9-8c48-8c1638315f29",
   "metadata": {},
   "source": [
    "Ранее сделанное предположение подтвердилось - в итоговых датасетах большинство векторов изображений отсутствует. Оставим пропуски в данных и посмотрим на метрики без заполнения пропусков."
   ]
  },
  {
   "cell_type": "markdown",
   "id": "31c8b434-ecd6-46e8-8bec-d1628cec35b3",
   "metadata": {},
   "source": [
    "Для обучения моделей будем использовать признак, сформированный на основе эмбеддингов - косинусную схожесть. Для того чтобы ее вычислить, заполним пропущенные значения векторов на заглушку - нулевой вектор того же размера:"
   ]
  },
  {
   "cell_type": "code",
   "execution_count": 21,
   "id": "a66aeb1b-88cf-4571-b2b8-5cc8ba20be28",
   "metadata": {
    "execution": {
     "iopub.execute_input": "2024-02-14T09:41:59.012859Z",
     "iopub.status.busy": "2024-02-14T09:41:59.012117Z",
     "iopub.status.idle": "2024-02-14T09:42:02.417074Z",
     "shell.execute_reply": "2024-02-14T09:42:02.416329Z",
     "shell.execute_reply.started": "2024-02-14T09:41:59.012823Z"
    },
    "tags": []
   },
   "outputs": [
    {
     "name": "stdout",
     "output_type": "stream",
     "text": [
      "Обучающая выборка:\n",
      "goods_price             407287\n",
      "goods_category_id          833\n",
      "offer_depersanalised         0\n",
      "goods_depersanalised         0\n",
      "sum_length                   0\n",
      "attrs+title_score            0\n",
      "offer_price                  0\n",
      "target                       0\n",
      "id                           0\n",
      "goods_image_vectors          0\n",
      "goods_title_vectors          0\n",
      "offer_image_vectors          0\n",
      "offer_title_vectors          0\n",
      "dtype: int64\n",
      "\n",
      "Тестовая выборка:\n"
     ]
    },
    {
     "data": {
      "text/plain": [
       "goods_price             58971\n",
       "goods_category_id         131\n",
       "offer_depersanalised        0\n",
       "goods_depersanalised        0\n",
       "sum_length                  0\n",
       "attrs+title_score           0\n",
       "offer_price                 0\n",
       "id                          0\n",
       "goods_image_vectors         0\n",
       "goods_title_vectors         0\n",
       "offer_image_vectors         0\n",
       "offer_title_vectors         0\n",
       "dtype: int64"
      ]
     },
     "execution_count": 21,
     "metadata": {},
     "output_type": "execute_result"
    }
   ],
   "source": [
    "# нулевой вектор\n",
    "zero_vector = np.zeros(256)\n",
    "\n",
    "# заполняем пропуски эмбеддингов в обучающей выборке\n",
    "data['goods_image_vectors'] = data['goods_image_vectors'].apply(lambda x: zero_vector if isinstance(x, float) else x)\n",
    "data['offer_image_vectors'] = data['offer_image_vectors'].apply(lambda x: zero_vector if isinstance(x, float) else x)\n",
    "\n",
    "# заполняем пропуски эмбеддингов в тестовой выборке\n",
    "data_test['goods_image_vectors'] = data_test['goods_image_vectors'].apply(lambda x: zero_vector if isinstance(x, float) else x)\n",
    "data_test['offer_image_vectors'] = data_test['offer_image_vectors'].apply(lambda x: zero_vector if isinstance(x, float) else x)\n",
    "\n",
    "print('Обучающая выборка:')\n",
    "print(data.isnull().sum().sort_values(ascending=False))\n",
    "print('')\n",
    "print('Тестовая выборка:')\n",
    "data_test.isnull().sum().sort_values(ascending=False)"
   ]
  },
  {
   "cell_type": "markdown",
   "id": "03c02c84-d1bc-4878-971b-2f9a6a78724e",
   "metadata": {
    "tags": []
   },
   "source": [
    "Из заполненных данных сформируем массивы для вычисления косинусной схожести:"
   ]
  },
  {
   "cell_type": "code",
   "execution_count": 22,
   "id": "a263199c-eb34-444c-b5c7-689a884e2264",
   "metadata": {
    "execution": {
     "iopub.execute_input": "2024-02-14T09:42:02.418258Z",
     "iopub.status.busy": "2024-02-14T09:42:02.417830Z",
     "iopub.status.idle": "2024-02-14T09:42:11.249903Z",
     "shell.execute_reply": "2024-02-14T09:42:11.249321Z",
     "shell.execute_reply.started": "2024-02-14T09:42:02.418226Z"
    },
    "tags": []
   },
   "outputs": [],
   "source": [
    "# обучающая выборка\n",
    "goods_title_vectors = np.array(data['goods_title_vectors'].tolist())\n",
    "offer_title_vectors = np.array(data['offer_title_vectors'].tolist())\n",
    "offer_image_vectors_train = np.array(data['offer_image_vectors'].tolist())\n",
    "goods_image_vectors_train = np.array(data['goods_image_vectors'].tolist())\n",
    "\n",
    "# тестовая выборка\n",
    "goods_title_vectors_test = np.array(data_test['goods_title_vectors'].tolist())\n",
    "offer_title_vectors_test = np.array(data_test['offer_title_vectors'].tolist())\n",
    "offer_image_vectors_test = np.array(data_test['offer_image_vectors'].tolist())\n",
    "goods_image_vectors_test = np.array(data_test['goods_image_vectors'].tolist())"
   ]
  },
  {
   "cell_type": "markdown",
   "id": "7f04445d-28ce-40bf-a67d-099ad72b2e72",
   "metadata": {},
   "source": [
    "Вычислим среднюю косинусную схожесть между векторами изображений и текстов и добавим соответствующие столбцы в итоговые датасеты:"
   ]
  },
  {
   "cell_type": "code",
   "execution_count": 23,
   "id": "5bc5acae-0e46-4059-bfdd-e8231031212d",
   "metadata": {
    "execution": {
     "iopub.execute_input": "2024-02-14T09:42:11.253206Z",
     "iopub.status.busy": "2024-02-14T09:42:11.252638Z",
     "iopub.status.idle": "2024-02-14T09:42:19.533315Z",
     "shell.execute_reply": "2024-02-14T09:42:19.532455Z",
     "shell.execute_reply.started": "2024-02-14T09:42:11.253172Z"
    },
    "tags": []
   },
   "outputs": [],
   "source": [
    "batch_size = 1000\n",
    "\n",
    "# средняя косинусная схожесть текстов (обучающая выборка)\n",
    "data['mean_similarity_title'] = batch_mean_cosine_similarity(goods_title_vectors, offer_title_vectors, batch_size)\n",
    "\n",
    "# средняя косинусная схожесть текстов (тестовая выборка)\n",
    "data_test['mean_similarity_title'] = batch_mean_cosine_similarity(goods_title_vectors_test, offer_title_vectors_test, batch_size)"
   ]
  },
  {
   "cell_type": "code",
   "execution_count": 24,
   "id": "1303548b-a2c6-4f95-b500-eaa7fb336658",
   "metadata": {
    "execution": {
     "iopub.execute_input": "2024-02-14T09:42:19.535862Z",
     "iopub.status.busy": "2024-02-14T09:42:19.534772Z",
     "iopub.status.idle": "2024-02-14T09:42:36.244135Z",
     "shell.execute_reply": "2024-02-14T09:42:36.243122Z",
     "shell.execute_reply.started": "2024-02-14T09:42:19.535826Z"
    },
    "tags": []
   },
   "outputs": [],
   "source": [
    "# средняя косинусная схожесть изображений (обучающая выборка)\n",
    "data['mean_similarity_img'] = batch_mean_cosine_similarity(goods_image_vectors_train, offer_image_vectors_train, batch_size)\n",
    "\n",
    "# средняя косинусная схожесть изображений (тестовая выборка)\n",
    "data_test['mean_similarity_img'] = batch_mean_cosine_similarity(goods_image_vectors_test, offer_image_vectors_test, batch_size)"
   ]
  },
  {
   "cell_type": "code",
   "execution_count": 50,
   "id": "fc6e4fa7-4240-4be0-932e-dcbed7b4dcec",
   "metadata": {
    "execution": {
     "iopub.execute_input": "2024-02-14T12:23:08.449346Z",
     "iopub.status.busy": "2024-02-14T12:23:08.448609Z",
     "iopub.status.idle": "2024-02-14T12:23:08.471769Z",
     "shell.execute_reply": "2024-02-14T12:23:08.471042Z",
     "shell.execute_reply.started": "2024-02-14T12:23:08.449307Z"
    },
    "tags": []
   },
   "outputs": [],
   "source": [
    "# меняем заглушки на пропуски в столбце mean_similarity_img\n",
    "data['mean_similarity_img'] = data['mean_similarity_img'].replace(0.0, np.nan)\n",
    "data_test['mean_similarity_img'] = data_test['mean_similarity_img'].replace(0.0, np.nan)"
   ]
  },
  {
   "cell_type": "markdown",
   "id": "71ebd112-686f-41d6-b115-680e37c6f6cb",
   "metadata": {},
   "source": [
    "## Формирование выборок"
   ]
  },
  {
   "cell_type": "markdown",
   "id": "acfc7b93-33d0-4d98-94c1-e3c34add3c8f",
   "metadata": {},
   "source": [
    "Сформируем 2 выборки - обучающую и валидационную - из тренировочных данных."
   ]
  },
  {
   "cell_type": "code",
   "execution_count": 51,
   "id": "fe2aefcf-68ae-41a3-a193-c2a71e4077f0",
   "metadata": {
    "execution": {
     "iopub.execute_input": "2024-02-14T12:24:03.607060Z",
     "iopub.status.busy": "2024-02-14T12:24:03.606400Z",
     "iopub.status.idle": "2024-02-14T12:24:03.669860Z",
     "shell.execute_reply": "2024-02-14T12:24:03.669172Z",
     "shell.execute_reply.started": "2024-02-14T12:24:03.607031Z"
    },
    "tags": []
   },
   "outputs": [],
   "source": [
    "# удалим вектора и id, которые не будем использовать для обучения (обучающая выборка)\n",
    "features = data.drop(['id', 'goods_image_vectors', 'offer_depersanalised', 'goods_depersanalised',\n",
    "                      'goods_title_vectors', 'offer_image_vectors','offer_title_vectors', 'target'], axis=1)\n",
    "\n",
    "target = data['target']\n",
    "\n",
    "# удалим вектора и id, которые не будем использовать для обучения (тестовая выборка)\n",
    "features_test = data_test.drop(['id', 'goods_image_vectors', 'offer_depersanalised', 'goods_depersanalised',\n",
    "                      'goods_title_vectors', 'offer_image_vectors','offer_title_vectors'], axis=1)"
   ]
  },
  {
   "cell_type": "code",
   "execution_count": 52,
   "id": "a301315f-d851-4566-ada8-e6133d1ef0ac",
   "metadata": {
    "execution": {
     "iopub.execute_input": "2024-02-14T12:24:05.320757Z",
     "iopub.status.busy": "2024-02-14T12:24:05.320034Z",
     "iopub.status.idle": "2024-02-14T12:24:05.328842Z",
     "shell.execute_reply": "2024-02-14T12:24:05.328240Z",
     "shell.execute_reply.started": "2024-02-14T12:24:05.320726Z"
    },
    "tags": []
   },
   "outputs": [],
   "source": [
    "RANDOM_STATE = 123"
   ]
  },
  {
   "cell_type": "code",
   "execution_count": 53,
   "id": "0c13f9ea-f200-4b04-a1e6-48a96b1ea18d",
   "metadata": {
    "execution": {
     "iopub.execute_input": "2024-02-14T12:24:06.598083Z",
     "iopub.status.busy": "2024-02-14T12:24:06.597474Z",
     "iopub.status.idle": "2024-02-14T12:24:07.365583Z",
     "shell.execute_reply": "2024-02-14T12:24:07.364984Z",
     "shell.execute_reply.started": "2024-02-14T12:24:06.598054Z"
    },
    "tags": []
   },
   "outputs": [],
   "source": [
    "# делим данные на выборки в соотношении 80/20, сохраняя баланс классов целевого признака\n",
    "features_train, features_valid, target_train, target_valid = train_test_split(features,\n",
    "                                                                              target,\n",
    "                                                                              stratify = target,\n",
    "                                                                              test_size=0.2,\n",
    "                                                                              random_state=RANDOM_STATE)"
   ]
  },
  {
   "cell_type": "markdown",
   "id": "6e5f913f-69ac-4f5a-9deb-15af3c93022e",
   "metadata": {},
   "source": [
    "## Обучение моделей"
   ]
  },
  {
   "cell_type": "code",
   "execution_count": 54,
   "id": "ad2164ae-9927-4e5b-8e92-e227945c4297",
   "metadata": {
    "execution": {
     "iopub.execute_input": "2024-02-14T12:24:12.008456Z",
     "iopub.status.busy": "2024-02-14T12:24:12.007667Z",
     "iopub.status.idle": "2024-02-14T12:24:12.021446Z",
     "shell.execute_reply": "2024-02-14T12:24:12.020879Z",
     "shell.execute_reply.started": "2024-02-14T12:24:12.008414Z"
    },
    "tags": []
   },
   "outputs": [],
   "source": [
    "# функция для обучения моделей и сравнения результатов\n",
    "\n",
    "def model_selection(models_dict, features_train, target_train, features_valid, target_valid):\n",
    "    \n",
    "    results_df = pd.DataFrame(columns=['Model Name', 'F1-Score', 'Precision', 'Recall'])\n",
    "    \n",
    "    for model_name, model in models_dict.items():\n",
    "        \n",
    "        model.fit(features_train, target_train)\n",
    "        preds = model.predict(features_valid)\n",
    "        f1 = round(f1_score(target_valid, preds), 5)\n",
    "        precision = round(precision_score(target_valid, preds), 5)\n",
    "        recall = round(recall_score(target_valid, preds), 5)\n",
    "        \n",
    "        results_df = results_df.append({'Model Name': model_name,\n",
    "                                        'F1-Score': f1,\n",
    "                                        'Precision': precision,\n",
    "                                        'Recall': recall}, ignore_index=True)\n",
    "        \n",
    "    return results_df\n"
   ]
  },
  {
   "cell_type": "markdown",
   "id": "6b8936d5-8a57-4e6d-8104-aeab6d842fdc",
   "metadata": {},
   "source": [
    "Сравним результаты трех моделей градиентного бустинга с дефолтными параметрами:"
   ]
  },
  {
   "cell_type": "code",
   "execution_count": 55,
   "id": "4d930d5c-490b-48f3-8c1d-c4a009a8d10a",
   "metadata": {
    "execution": {
     "iopub.execute_input": "2024-02-14T12:24:16.261596Z",
     "iopub.status.busy": "2024-02-14T12:24:16.261032Z",
     "iopub.status.idle": "2024-02-14T12:37:03.861575Z",
     "shell.execute_reply": "2024-02-14T12:37:03.860978Z",
     "shell.execute_reply.started": "2024-02-14T12:24:16.261570Z"
    },
    "tags": []
   },
   "outputs": [
    {
     "data": {
      "text/html": [
       "<div>\n",
       "<style scoped>\n",
       "    .dataframe tbody tr th:only-of-type {\n",
       "        vertical-align: middle;\n",
       "    }\n",
       "\n",
       "    .dataframe tbody tr th {\n",
       "        vertical-align: top;\n",
       "    }\n",
       "\n",
       "    .dataframe thead th {\n",
       "        text-align: right;\n",
       "    }\n",
       "</style>\n",
       "<table border=\"1\" class=\"dataframe\">\n",
       "  <thead>\n",
       "    <tr style=\"text-align: right;\">\n",
       "      <th></th>\n",
       "      <th>Model Name</th>\n",
       "      <th>F1-Score</th>\n",
       "      <th>Precision</th>\n",
       "      <th>Recall</th>\n",
       "    </tr>\n",
       "  </thead>\n",
       "  <tbody>\n",
       "    <tr>\n",
       "      <th>0</th>\n",
       "      <td>LGBMClassifier</td>\n",
       "      <td>0.91346</td>\n",
       "      <td>0.88683</td>\n",
       "      <td>0.94174</td>\n",
       "    </tr>\n",
       "    <tr>\n",
       "      <th>1</th>\n",
       "      <td>XGBClassifier</td>\n",
       "      <td>0.91687</td>\n",
       "      <td>0.89394</td>\n",
       "      <td>0.94100</td>\n",
       "    </tr>\n",
       "    <tr>\n",
       "      <th>2</th>\n",
       "      <td>CatBoostClassifier</td>\n",
       "      <td>0.91666</td>\n",
       "      <td>0.89238</td>\n",
       "      <td>0.94230</td>\n",
       "    </tr>\n",
       "  </tbody>\n",
       "</table>\n",
       "</div>"
      ],
      "text/plain": [
       "           Model Name  F1-Score  Precision   Recall\n",
       "0      LGBMClassifier   0.91346    0.88683  0.94174\n",
       "1       XGBClassifier   0.91687    0.89394  0.94100\n",
       "2  CatBoostClassifier   0.91666    0.89238  0.94230"
      ]
     },
     "metadata": {},
     "output_type": "display_data"
    }
   ],
   "source": [
    "# cоздадим словарь с моделями градиентного бустинга и их гиперпараметрами\n",
    "models_dict = {\n",
    "    'LGBMClassifier': lgb.LGBMClassifier(objective='binary', n_estimators=1000, random_state=RANDOM_STATE),\n",
    "    'XGBClassifier': xgb.XGBClassifier(objective='binary:logistic', n_estimators=1000, random_state=RANDOM_STATE),\n",
    "    'CatBoostClassifier': CatBoostClassifier(eval_metric='F1', verbose=False, iterations=1000, random_state=RANDOM_STATE)\n",
    "}\n",
    "\n",
    "# применим функцию для обучения и оценки моделей градиентного бустинга\n",
    "results_table = model_selection(models_dict, features_train, target_train, features_valid, target_valid)\n",
    "\n",
    "display(results_table)"
   ]
  },
  {
   "cell_type": "markdown",
   "id": "fd05dc74-2967-4aa1-a437-8ccb225e7ba7",
   "metadata": {},
   "source": [
    "Лучший результат показал XGBClassifier. CatBoostClassifier близок по f1-score, обогнал по полноте XGBClassifier, но уступил по точности. Можно рассмотреть вариант с ансамблем моделей. \n",
    "\n",
    "Попробуем **CatBoostClassifier с гиперпараметром auto_class_weights='SqrtBalanced'** (вес класса на основе общего количества объектов в каждом классе):"
   ]
  },
  {
   "cell_type": "code",
   "execution_count": 56,
   "id": "0174b0cc-be65-4289-baa8-78947ef2cc49",
   "metadata": {
    "execution": {
     "iopub.execute_input": "2024-02-14T12:37:03.862970Z",
     "iopub.status.busy": "2024-02-14T12:37:03.862568Z",
     "iopub.status.idle": "2024-02-14T12:38:42.564991Z",
     "shell.execute_reply": "2024-02-14T12:38:42.564283Z",
     "shell.execute_reply.started": "2024-02-14T12:37:03.862940Z"
    },
    "tags": []
   },
   "outputs": [
    {
     "data": {
      "text/html": [
       "<div>\n",
       "<style scoped>\n",
       "    .dataframe tbody tr th:only-of-type {\n",
       "        vertical-align: middle;\n",
       "    }\n",
       "\n",
       "    .dataframe tbody tr th {\n",
       "        vertical-align: top;\n",
       "    }\n",
       "\n",
       "    .dataframe thead th {\n",
       "        text-align: right;\n",
       "    }\n",
       "</style>\n",
       "<table border=\"1\" class=\"dataframe\">\n",
       "  <thead>\n",
       "    <tr style=\"text-align: right;\">\n",
       "      <th></th>\n",
       "      <th>Model Name</th>\n",
       "      <th>F1-Score</th>\n",
       "      <th>Precision</th>\n",
       "      <th>Recall</th>\n",
       "    </tr>\n",
       "  </thead>\n",
       "  <tbody>\n",
       "    <tr>\n",
       "      <th>0</th>\n",
       "      <td>LGBMClassifier</td>\n",
       "      <td>0.91346</td>\n",
       "      <td>0.88683</td>\n",
       "      <td>0.94174</td>\n",
       "    </tr>\n",
       "    <tr>\n",
       "      <th>1</th>\n",
       "      <td>XGBClassifier</td>\n",
       "      <td>0.91687</td>\n",
       "      <td>0.89394</td>\n",
       "      <td>0.94100</td>\n",
       "    </tr>\n",
       "    <tr>\n",
       "      <th>2</th>\n",
       "      <td>CatBoostClassifier</td>\n",
       "      <td>0.91666</td>\n",
       "      <td>0.89238</td>\n",
       "      <td>0.94230</td>\n",
       "    </tr>\n",
       "    <tr>\n",
       "      <th>3</th>\n",
       "      <td>CatBoostClassifier balanced</td>\n",
       "      <td>0.91304</td>\n",
       "      <td>0.85964</td>\n",
       "      <td>0.97351</td>\n",
       "    </tr>\n",
       "  </tbody>\n",
       "</table>\n",
       "</div>"
      ],
      "text/plain": [
       "                    Model Name  F1-Score  Precision   Recall\n",
       "0               LGBMClassifier   0.91346    0.88683  0.94174\n",
       "1                XGBClassifier   0.91687    0.89394  0.94100\n",
       "2           CatBoostClassifier   0.91666    0.89238  0.94230\n",
       "3  CatBoostClassifier balanced   0.91304    0.85964  0.97351"
      ]
     },
     "metadata": {},
     "output_type": "display_data"
    }
   ],
   "source": [
    "# CatBoostClassifier с гиперпараметром auto_class_weights\n",
    "models_dict = {\n",
    "    'CatBoostClassifier balanced': CatBoostClassifier(eval_metric='F1', verbose=False, \n",
    "                                                      iterations=1000, auto_class_weights='SqrtBalanced', \n",
    "                                                      random_state=RANDOM_STATE)\n",
    "}\n",
    "catboost_balanced = model_selection(models_dict, features_train, target_train, features_valid, target_valid)\n",
    "\n",
    "# добавляем в сравнительную таблицу результаты обучения\n",
    "results_table = pd.concat([results_table, catboost_balanced], ignore_index=True)\n",
    "display(results_table)"
   ]
  },
  {
   "cell_type": "markdown",
   "id": "8e97332d-3039-40fa-a475-5e433f30ef77",
   "metadata": {},
   "source": [
    "Баланс классов не дал прироста метрики, а наоборот ухудшил ее. В итоге упала точность, но выросла полнота. В дальнейшем не будем использовать балансировку веса классов.\n",
    "\n",
    "Попробуем **добавить новый признак - отношение цены предложения к цене товара из ассортимента:**"
   ]
  },
  {
   "cell_type": "code",
   "execution_count": 57,
   "id": "6d198fce-6e74-4837-85e9-4bddc57d9ece",
   "metadata": {
    "execution": {
     "iopub.execute_input": "2024-02-14T12:38:42.566699Z",
     "iopub.status.busy": "2024-02-14T12:38:42.566326Z",
     "iopub.status.idle": "2024-02-14T12:40:15.247314Z",
     "shell.execute_reply": "2024-02-14T12:40:15.246619Z",
     "shell.execute_reply.started": "2024-02-14T12:38:42.566671Z"
    },
    "tags": []
   },
   "outputs": [
    {
     "data": {
      "text/html": [
       "<div>\n",
       "<style scoped>\n",
       "    .dataframe tbody tr th:only-of-type {\n",
       "        vertical-align: middle;\n",
       "    }\n",
       "\n",
       "    .dataframe tbody tr th {\n",
       "        vertical-align: top;\n",
       "    }\n",
       "\n",
       "    .dataframe thead th {\n",
       "        text-align: right;\n",
       "    }\n",
       "</style>\n",
       "<table border=\"1\" class=\"dataframe\">\n",
       "  <thead>\n",
       "    <tr style=\"text-align: right;\">\n",
       "      <th></th>\n",
       "      <th>Model Name</th>\n",
       "      <th>F1-Score</th>\n",
       "      <th>Precision</th>\n",
       "      <th>Recall</th>\n",
       "    </tr>\n",
       "  </thead>\n",
       "  <tbody>\n",
       "    <tr>\n",
       "      <th>0</th>\n",
       "      <td>LGBMClassifier</td>\n",
       "      <td>0.91346</td>\n",
       "      <td>0.88683</td>\n",
       "      <td>0.94174</td>\n",
       "    </tr>\n",
       "    <tr>\n",
       "      <th>1</th>\n",
       "      <td>XGBClassifier</td>\n",
       "      <td>0.91687</td>\n",
       "      <td>0.89394</td>\n",
       "      <td>0.94100</td>\n",
       "    </tr>\n",
       "    <tr>\n",
       "      <th>2</th>\n",
       "      <td>CatBoostClassifier</td>\n",
       "      <td>0.91666</td>\n",
       "      <td>0.89238</td>\n",
       "      <td>0.94230</td>\n",
       "    </tr>\n",
       "    <tr>\n",
       "      <th>3</th>\n",
       "      <td>CatBoostClassifier balanced</td>\n",
       "      <td>0.91304</td>\n",
       "      <td>0.85964</td>\n",
       "      <td>0.97351</td>\n",
       "    </tr>\n",
       "    <tr>\n",
       "      <th>4</th>\n",
       "      <td>CatBoostClassifier with price ratio</td>\n",
       "      <td>0.91765</td>\n",
       "      <td>0.89373</td>\n",
       "      <td>0.94290</td>\n",
       "    </tr>\n",
       "  </tbody>\n",
       "</table>\n",
       "</div>"
      ],
      "text/plain": [
       "                            Model Name  F1-Score  Precision   Recall\n",
       "0                       LGBMClassifier   0.91346    0.88683  0.94174\n",
       "1                        XGBClassifier   0.91687    0.89394  0.94100\n",
       "2                   CatBoostClassifier   0.91666    0.89238  0.94230\n",
       "3          CatBoostClassifier balanced   0.91304    0.85964  0.97351\n",
       "4  CatBoostClassifier with price ratio   0.91765    0.89373  0.94290"
      ]
     },
     "metadata": {},
     "output_type": "display_data"
    }
   ],
   "source": [
    "features_train['price_ratio'] = features_train['offer_price']/features_train['goods_price']\n",
    "features_valid['price_ratio'] = features_valid['offer_price']/features_valid['goods_price']\n",
    "\n",
    "models_dict = {\n",
    "    'CatBoostClassifier with price ratio': CatBoostClassifier(eval_metric='F1', verbose=False, iterations=1000, random_state=RANDOM_STATE)\n",
    "}\n",
    "catboost_price_ratio = model_selection(models_dict, features_train, target_train, features_valid, target_valid)\n",
    "\n",
    "results_table = pd.concat([results_table, catboost_price_ratio], ignore_index=True)\n",
    "display(results_table)"
   ]
  },
  {
   "cell_type": "markdown",
   "id": "85f6cd32-f4c6-4f35-918b-21fb9b88b657",
   "metadata": {},
   "source": [
    "Метрика увеличилась, выросла и точность, и полнота. Добавим признак в тестовую и обучающую выборки:"
   ]
  },
  {
   "cell_type": "code",
   "execution_count": 58,
   "id": "1713f963-2b1f-4659-aafd-edbc83a7575f",
   "metadata": {
    "execution": {
     "iopub.execute_input": "2024-02-14T12:40:15.249034Z",
     "iopub.status.busy": "2024-02-14T12:40:15.248383Z",
     "iopub.status.idle": "2024-02-14T12:40:15.268523Z",
     "shell.execute_reply": "2024-02-14T12:40:15.267905Z",
     "shell.execute_reply.started": "2024-02-14T12:40:15.248999Z"
    },
    "tags": []
   },
   "outputs": [],
   "source": [
    "features['price_ratio'] = features['offer_price']/features['goods_price']\n",
    "features_test['price_ratio'] = features_test['offer_price']/features_test['goods_price']"
   ]
  },
  {
   "cell_type": "markdown",
   "id": "1624a78c-6b49-481a-bb50-263ba86a2c0b",
   "metadata": {},
   "source": [
    "**Попробуем добавить еще один признак - разницу в цене:**"
   ]
  },
  {
   "cell_type": "code",
   "execution_count": 59,
   "id": "5f299eb1-8e33-4792-bb3c-6522bb920263",
   "metadata": {
    "execution": {
     "iopub.execute_input": "2024-02-14T12:40:15.269744Z",
     "iopub.status.busy": "2024-02-14T12:40:15.269282Z",
     "iopub.status.idle": "2024-02-14T12:41:52.869843Z",
     "shell.execute_reply": "2024-02-14T12:41:52.869202Z",
     "shell.execute_reply.started": "2024-02-14T12:40:15.269708Z"
    },
    "tags": []
   },
   "outputs": [
    {
     "data": {
      "text/html": [
       "<div>\n",
       "<style scoped>\n",
       "    .dataframe tbody tr th:only-of-type {\n",
       "        vertical-align: middle;\n",
       "    }\n",
       "\n",
       "    .dataframe tbody tr th {\n",
       "        vertical-align: top;\n",
       "    }\n",
       "\n",
       "    .dataframe thead th {\n",
       "        text-align: right;\n",
       "    }\n",
       "</style>\n",
       "<table border=\"1\" class=\"dataframe\">\n",
       "  <thead>\n",
       "    <tr style=\"text-align: right;\">\n",
       "      <th></th>\n",
       "      <th>Model Name</th>\n",
       "      <th>F1-Score</th>\n",
       "      <th>Precision</th>\n",
       "      <th>Recall</th>\n",
       "    </tr>\n",
       "  </thead>\n",
       "  <tbody>\n",
       "    <tr>\n",
       "      <th>0</th>\n",
       "      <td>LGBMClassifier</td>\n",
       "      <td>0.91346</td>\n",
       "      <td>0.88683</td>\n",
       "      <td>0.94174</td>\n",
       "    </tr>\n",
       "    <tr>\n",
       "      <th>1</th>\n",
       "      <td>XGBClassifier</td>\n",
       "      <td>0.91687</td>\n",
       "      <td>0.89394</td>\n",
       "      <td>0.94100</td>\n",
       "    </tr>\n",
       "    <tr>\n",
       "      <th>2</th>\n",
       "      <td>CatBoostClassifier</td>\n",
       "      <td>0.91666</td>\n",
       "      <td>0.89238</td>\n",
       "      <td>0.94230</td>\n",
       "    </tr>\n",
       "    <tr>\n",
       "      <th>3</th>\n",
       "      <td>CatBoostClassifier balanced</td>\n",
       "      <td>0.91304</td>\n",
       "      <td>0.85964</td>\n",
       "      <td>0.97351</td>\n",
       "    </tr>\n",
       "    <tr>\n",
       "      <th>4</th>\n",
       "      <td>CatBoostClassifier with price ratio</td>\n",
       "      <td>0.91765</td>\n",
       "      <td>0.89373</td>\n",
       "      <td>0.94290</td>\n",
       "    </tr>\n",
       "    <tr>\n",
       "      <th>5</th>\n",
       "      <td>CatBoostClassifier with price difference</td>\n",
       "      <td>0.91777</td>\n",
       "      <td>0.89380</td>\n",
       "      <td>0.94307</td>\n",
       "    </tr>\n",
       "  </tbody>\n",
       "</table>\n",
       "</div>"
      ],
      "text/plain": [
       "                                 Model Name  F1-Score  Precision   Recall\n",
       "0                            LGBMClassifier   0.91346    0.88683  0.94174\n",
       "1                             XGBClassifier   0.91687    0.89394  0.94100\n",
       "2                        CatBoostClassifier   0.91666    0.89238  0.94230\n",
       "3               CatBoostClassifier balanced   0.91304    0.85964  0.97351\n",
       "4       CatBoostClassifier with price ratio   0.91765    0.89373  0.94290\n",
       "5  CatBoostClassifier with price difference   0.91777    0.89380  0.94307"
      ]
     },
     "metadata": {},
     "output_type": "display_data"
    }
   ],
   "source": [
    "features_train['price_difference'] = features_train['offer_price'] - features_train['goods_price']\n",
    "features_valid['price_difference'] = features_valid['offer_price'] - features_valid['goods_price']\n",
    "\n",
    "models_dict = {\n",
    "    'CatBoostClassifier with price difference': CatBoostClassifier(eval_metric='F1', verbose=False, iterations=1000, random_state=RANDOM_STATE)\n",
    "}\n",
    "catboost_price_difference = model_selection(models_dict, features_train, target_train, features_valid, target_valid)\n",
    "\n",
    "results_table = pd.concat([results_table, catboost_price_difference], ignore_index=True)\n",
    "display(results_table)"
   ]
  },
  {
   "cell_type": "markdown",
   "id": "61dbc832-55a7-4d6f-89e9-e4179eb77dee",
   "metadata": {},
   "source": [
    "Метрика незначительно увеличилась, добавим в тестовую и обучающую выборки разницу в цене:"
   ]
  },
  {
   "cell_type": "code",
   "execution_count": 60,
   "id": "dc149313-4c33-4cda-a356-b1d400a047b4",
   "metadata": {
    "execution": {
     "iopub.execute_input": "2024-02-14T12:41:52.871374Z",
     "iopub.status.busy": "2024-02-14T12:41:52.870682Z",
     "iopub.status.idle": "2024-02-14T12:41:52.893517Z",
     "shell.execute_reply": "2024-02-14T12:41:52.892898Z",
     "shell.execute_reply.started": "2024-02-14T12:41:52.871350Z"
    },
    "tags": []
   },
   "outputs": [],
   "source": [
    "features['price_difference'] = features['offer_price'] - features['goods_price']\n",
    "features_test['price_difference'] = features_test['offer_price'] - features_test['goods_price']"
   ]
  },
  {
   "cell_type": "markdown",
   "id": "e04c0c36-ac3a-46d1-a4cc-f2a795ca8472",
   "metadata": {},
   "source": [
    "Проверим корреляцию между предикторами:"
   ]
  },
  {
   "cell_type": "code",
   "execution_count": 61,
   "id": "444d4e1c-334f-407e-8318-ba2bd06b1a22",
   "metadata": {
    "execution": {
     "iopub.execute_input": "2024-02-14T12:41:52.894978Z",
     "iopub.status.busy": "2024-02-14T12:41:52.894369Z",
     "iopub.status.idle": "2024-02-14T12:41:53.786257Z",
     "shell.execute_reply": "2024-02-14T12:41:53.785706Z",
     "shell.execute_reply.started": "2024-02-14T12:41:52.894944Z"
    },
    "tags": []
   },
   "outputs": [
    {
     "data": {
      "image/png": "[encoded data removed]",
      "text/plain": [
       "<Figure size 648x648 with 2 Axes>"
      ]
     },
     "metadata": {
      "needs_background": "light"
     },
     "output_type": "display_data"
    }
   ],
   "source": [
    "plt.figure(figsize=(9,9))\n",
    "sns.heatmap(features_train.corr(), \n",
    "            annot=True, \n",
    "            cmap='coolwarm', \n",
    "            center=0,\n",
    "            fmt='.2f')\n",
    "plt.title('Корреляция признаков')  \n",
    "plt.show()"
   ]
  },
  {
   "cell_type": "markdown",
   "id": "941e4f34-fed9-470d-aeb1-e4517b947793",
   "metadata": {},
   "source": [
    "В данных теперь есть мультиколлинеарность (price_difference и offer_price, goods_price и price_difference), но разница в цене дала прирост метрики, а модели градиентного бустинга способны справится с мультиколлинеарностью, так что оставим все признаки в датасете.\n",
    "\n",
    "Протестируем **ансамбль из XGBClassifier и CatBoostClassifier с мягким голосованием**:"
   ]
  },
  {
   "cell_type": "code",
   "execution_count": 62,
   "id": "4d6cfd3e-f7ff-4693-a2aa-0580809a2c2e",
   "metadata": {
    "execution": {
     "iopub.execute_input": "2024-02-14T12:41:53.788404Z",
     "iopub.status.busy": "2024-02-14T12:41:53.787909Z",
     "iopub.status.idle": "2024-02-14T12:57:11.475244Z",
     "shell.execute_reply": "2024-02-14T12:57:11.474514Z",
     "shell.execute_reply.started": "2024-02-14T12:41:53.788371Z"
    },
    "tags": []
   },
   "outputs": [
    {
     "data": {
      "text/html": [
       "<div>\n",
       "<style scoped>\n",
       "    .dataframe tbody tr th:only-of-type {\n",
       "        vertical-align: middle;\n",
       "    }\n",
       "\n",
       "    .dataframe tbody tr th {\n",
       "        vertical-align: top;\n",
       "    }\n",
       "\n",
       "    .dataframe thead th {\n",
       "        text-align: right;\n",
       "    }\n",
       "</style>\n",
       "<table border=\"1\" class=\"dataframe\">\n",
       "  <thead>\n",
       "    <tr style=\"text-align: right;\">\n",
       "      <th></th>\n",
       "      <th>Model Name</th>\n",
       "      <th>F1-Score</th>\n",
       "      <th>Precision</th>\n",
       "      <th>Recall</th>\n",
       "    </tr>\n",
       "  </thead>\n",
       "  <tbody>\n",
       "    <tr>\n",
       "      <th>0</th>\n",
       "      <td>LGBMClassifier</td>\n",
       "      <td>0.91346</td>\n",
       "      <td>0.88683</td>\n",
       "      <td>0.94174</td>\n",
       "    </tr>\n",
       "    <tr>\n",
       "      <th>1</th>\n",
       "      <td>XGBClassifier</td>\n",
       "      <td>0.91687</td>\n",
       "      <td>0.89394</td>\n",
       "      <td>0.94100</td>\n",
       "    </tr>\n",
       "    <tr>\n",
       "      <th>2</th>\n",
       "      <td>CatBoostClassifier</td>\n",
       "      <td>0.91666</td>\n",
       "      <td>0.89238</td>\n",
       "      <td>0.94230</td>\n",
       "    </tr>\n",
       "    <tr>\n",
       "      <th>3</th>\n",
       "      <td>CatBoostClassifier balanced</td>\n",
       "      <td>0.91304</td>\n",
       "      <td>0.85964</td>\n",
       "      <td>0.97351</td>\n",
       "    </tr>\n",
       "    <tr>\n",
       "      <th>4</th>\n",
       "      <td>CatBoostClassifier with price ratio</td>\n",
       "      <td>0.91765</td>\n",
       "      <td>0.89373</td>\n",
       "      <td>0.94290</td>\n",
       "    </tr>\n",
       "    <tr>\n",
       "      <th>5</th>\n",
       "      <td>CatBoostClassifier with price difference</td>\n",
       "      <td>0.91777</td>\n",
       "      <td>0.89380</td>\n",
       "      <td>0.94307</td>\n",
       "    </tr>\n",
       "    <tr>\n",
       "      <th>6</th>\n",
       "      <td>Ensemble(xgb+catboost)</td>\n",
       "      <td>0.91928</td>\n",
       "      <td>0.89548</td>\n",
       "      <td>0.94439</td>\n",
       "    </tr>\n",
       "  </tbody>\n",
       "</table>\n",
       "</div>"
      ],
      "text/plain": [
       "                                 Model Name  F1-Score  Precision   Recall\n",
       "0                            LGBMClassifier   0.91346    0.88683  0.94174\n",
       "1                             XGBClassifier   0.91687    0.89394  0.94100\n",
       "2                        CatBoostClassifier   0.91666    0.89238  0.94230\n",
       "3               CatBoostClassifier balanced   0.91304    0.85964  0.97351\n",
       "4       CatBoostClassifier with price ratio   0.91765    0.89373  0.94290\n",
       "5  CatBoostClassifier with price difference   0.91777    0.89380  0.94307\n",
       "6                    Ensemble(xgb+catboost)   0.91928    0.89548  0.94439"
      ]
     },
     "metadata": {},
     "output_type": "display_data"
    }
   ],
   "source": [
    "model1 = xgb.XGBClassifier(random_state=RANDOM_STATE, objective='binary:logistic', n_estimators=1000)\n",
    "model2 = CatBoostClassifier(random_state=RANDOM_STATE, eval_metric='F1', verbose=False, iterations = 1000)\n",
    "\n",
    "# создадим ансамбль из моделей градиентного бустинга\n",
    "ensemble = VotingClassifier(estimators=[('xgb', model1), ('catboost', model2)], voting='soft')\n",
    "                                   \n",
    "                                        \n",
    "models_dict = {\n",
    "    'Ensemble(xgb+catboost)': ensemble\n",
    "}\n",
    "ensemble_results = model_selection(models_dict, features_train, target_train, features_valid, target_valid)\n",
    "\n",
    "results_table = pd.concat([results_table, ensemble_results], ignore_index=True)\n",
    "display(results_table)"
   ]
  },
  {
   "cell_type": "markdown",
   "id": "cb3d02d5-8325-4ba3-a181-36e079c23469",
   "metadata": {},
   "source": [
    "Ансамбль дает неплохой прирост метрики, стоит рассмотреть его в качестве финальной модели."
   ]
  },
  {
   "cell_type": "markdown",
   "id": "3ea6c1a3-d276-4be5-9079-26d1929dbf03",
   "metadata": {},
   "source": [
    "### Порог классификации"
   ]
  },
  {
   "cell_type": "markdown",
   "id": "6eb6bf56-4621-4b2d-8cf2-b96472b5070f",
   "metadata": {},
   "source": [
    "В качестве одного из вариантов решения проблемы дисбаланса классов можно попробовать подобрать оптимальный порог классификации. Попробуем найти его для ансамбля и посмотрим, увеличит ли данный метод метрику:"
   ]
  },
  {
   "cell_type": "code",
   "execution_count": 63,
   "id": "f1663248-6d8f-4774-a17f-c069a368f9f9",
   "metadata": {
    "execution": {
     "iopub.execute_input": "2024-02-14T12:57:11.477120Z",
     "iopub.status.busy": "2024-02-14T12:57:11.476542Z",
     "iopub.status.idle": "2024-02-14T13:14:56.900151Z",
     "shell.execute_reply": "2024-02-14T13:14:56.899384Z",
     "shell.execute_reply.started": "2024-02-14T12:57:11.477095Z"
    },
    "tags": []
   },
   "outputs": [
    {
     "name": "stdout",
     "output_type": "stream",
     "text": [
      "Порог классификации: 0.460, F1-Score: 0.91998\n"
     ]
    }
   ],
   "source": [
    "ensemble.fit(features_train, target_train)\n",
    "\n",
    "forecast = ensemble.predict_proba(features_valid)\n",
    "probs = forecast[:, 1]\n",
    "thresholds = np.arange (0, 1, 0.001)\n",
    "\n",
    "def to_labels(pos_probs, threshold):\n",
    " return (pos_probs >= threshold).astype('int')\n",
    "\n",
    "scores = [f1_score(target_valid, to_labels(probs, t)) for t in thresholds]\n",
    "\n",
    "ix = np.argmax(scores)\n",
    "print('Порог классификации: %.3f, F1-Score: %.5f' % (thresholds[ix], scores[ix]))"
   ]
  },
  {
   "cell_type": "markdown",
   "id": "245e21c0-70b4-48b7-8ac6-8e06e589f824",
   "metadata": {},
   "source": [
    "Измененный порог действительно дает прирост метрики. Используем его при предсказании на тестовых данных."
   ]
  },
  {
   "cell_type": "markdown",
   "id": "94341bda-950d-4d60-a8d5-fceb3746ecd4",
   "metadata": {},
   "source": [
    "### Optuna"
   ]
  },
  {
   "cell_type": "markdown",
   "id": "5f0e065e-4a68-45fa-9104-1eaf24f4e7a9",
   "metadata": {},
   "source": [
    "Попробуем подобрать оптимальные гиперпараметры для catboost'а и xgb с помощью библиотеки optuna:"
   ]
  },
  {
   "cell_type": "code",
   "execution_count": 113,
   "id": "5954cf26-a284-4ec8-ae08-6f3bdff197a6",
   "metadata": {
    "execution": {
     "iopub.execute_input": "2024-02-13T16:28:52.767378Z",
     "iopub.status.busy": "2024-02-13T16:28:52.766699Z",
     "iopub.status.idle": "2024-02-13T16:28:52.776853Z",
     "shell.execute_reply": "2024-02-13T16:28:52.776230Z",
     "shell.execute_reply.started": "2024-02-13T16:28:52.767339Z"
    }
   },
   "outputs": [],
   "source": [
    "# определяем целевую функцию objective\n",
    "def objective(trial):\n",
    "    \n",
    "    # словарь параметров\n",
    "    params = {\n",
    "        'eval_metric': 'F1',\n",
    "        'random_state': 123,\n",
    "        'iterations' : trial.suggest_int(\"iterations\", 1000, 5000),\n",
    "        'depth' : trial.suggest_int(\"depth\", 4, 10),\n",
    "        'learning_rate': trial.suggest_float(\"learning_rate\", 1e-3, 1e-1, log=True)\n",
    "    }\n",
    "    \n",
    "    model = CatBoostClassifier(**params)\n",
    "    model.fit(features_train,target_train, verbose=500)\n",
    "    predictions = model.predict(features_valid)\n",
    "    f1_catboost = f1_score(target_valid, predictions)\n",
    "    return f1_catboost"
   ]
  },
  {
   "cell_type": "code",
   "execution_count": 114,
   "id": "3edf2302-9411-4f15-bfa0-f2077ed80b6d",
   "metadata": {
    "execution": {
     "iopub.execute_input": "2024-02-13T16:29:12.985601Z",
     "iopub.status.busy": "2024-02-13T16:29:12.984754Z",
     "iopub.status.idle": "2024-02-13T17:21:35.047049Z",
     "shell.execute_reply": "2024-02-13T17:21:35.046453Z",
     "shell.execute_reply.started": "2024-02-13T16:29:12.985563Z"
    }
   },
   "outputs": [
    {
     "name": "stderr",
     "output_type": "stream",
     "text": [
      "[I 2024-02-13 16:29:12,987] A new study created in memory with name: no-name-9177b19e-a810-4338-a898-28e672ddee9c\n"
     ]
    },
    {
     "name": "stdout",
     "output_type": "stream",
     "text": [
      "0:\tlearn: 0.9081442\ttotal: 126ms\tremaining: 7m 23s\n",
      "500:\tlearn: 0.9127791\ttotal: 59.3s\tremaining: 5m 55s\n",
      "1000:\tlearn: 0.9144637\ttotal: 1m 56s\tremaining: 4m 52s\n",
      "1500:\tlearn: 0.9156084\ttotal: 2m 55s\tremaining: 3m 54s\n",
      "2000:\tlearn: 0.9163033\ttotal: 3m 53s\tremaining: 2m 56s\n",
      "2500:\tlearn: 0.9169460\ttotal: 4m 52s\tremaining: 1m 57s\n",
      "3000:\tlearn: 0.9174463\ttotal: 5m 49s\tremaining: 59s\n",
      "3500:\tlearn: 0.9180116\ttotal: 6m 48s\tremaining: 699ms\n",
      "3506:\tlearn: 0.9180318\ttotal: 6m 48s\tremaining: 0us\n"
     ]
    },
    {
     "name": "stderr",
     "output_type": "stream",
     "text": [
      "[I 2024-02-13 16:36:03,306] Trial 0 finished with value: 0.9166529483422777 and parameters: {'iterations': 3507, 'depth': 8, 'learning_rate': 0.00623894130296484}. Best is trial 0 with value: 0.9166529483422777.\n"
     ]
    },
    {
     "name": "stdout",
     "output_type": "stream",
     "text": [
      "0:\tlearn: 0.9081442\ttotal: 119ms\tremaining: 8m 54s\n",
      "500:\tlearn: 0.9109262\ttotal: 1m\tremaining: 8m 3s\n",
      "1000:\tlearn: 0.9120235\ttotal: 2m 1s\tremaining: 7m 2s\n",
      "1500:\tlearn: 0.9129366\ttotal: 3m\tremaining: 5m 59s\n",
      "2000:\tlearn: 0.9134957\ttotal: 3m 59s\tremaining: 4m 57s\n",
      "2500:\tlearn: 0.9140859\ttotal: 4m 57s\tremaining: 3m 56s\n",
      "3000:\tlearn: 0.9146284\ttotal: 5m 56s\tremaining: 2m 56s\n",
      "3500:\tlearn: 0.9150806\ttotal: 6m 55s\tremaining: 1m 57s\n",
      "4000:\tlearn: 0.9153796\ttotal: 7m 54s\tremaining: 57.8s\n",
      "4488:\tlearn: 0.9157307\ttotal: 8m 51s\tremaining: 0us\n"
     ]
    },
    {
     "name": "stderr",
     "output_type": "stream",
     "text": [
      "[I 2024-02-13 16:44:56,631] Trial 1 finished with value: 0.9151142803095726 and parameters: {'iterations': 4489, 'depth': 8, 'learning_rate': 0.002220431056804187}. Best is trial 0 with value: 0.9166529483422777.\n"
     ]
    },
    {
     "name": "stdout",
     "output_type": "stream",
     "text": [
      "0:\tlearn: 0.9083041\ttotal: 182ms\tremaining: 11m 33s\n",
      "500:\tlearn: 0.9262605\ttotal: 1m 32s\tremaining: 10m 10s\n",
      "1000:\tlearn: 0.9333160\ttotal: 3m 4s\tremaining: 8m 37s\n",
      "1500:\tlearn: 0.9392001\ttotal: 4m 37s\tremaining: 7m 4s\n",
      "2000:\tlearn: 0.9446971\ttotal: 6m 9s\tremaining: 5m 32s\n",
      "2500:\tlearn: 0.9492900\ttotal: 7m 41s\tremaining: 4m\n",
      "3000:\tlearn: 0.9535803\ttotal: 9m 13s\tremaining: 2m 27s\n",
      "3500:\tlearn: 0.9576030\ttotal: 10m 44s\tremaining: 55.4s\n",
      "3801:\tlearn: 0.9596560\ttotal: 11m 39s\tremaining: 0us\n"
     ]
    },
    {
     "name": "stderr",
     "output_type": "stream",
     "text": [
      "[I 2024-02-13 16:56:38,963] Trial 2 finished with value: 0.9183322018181518 and parameters: {'iterations': 3802, 'depth': 10, 'learning_rate': 0.08248830412793505}. Best is trial 2 with value: 0.9183322018181518.\n"
     ]
    },
    {
     "name": "stdout",
     "output_type": "stream",
     "text": [
      "0:\tlearn: 0.9081442\ttotal: 95.1ms\tremaining: 2m 16s\n",
      "500:\tlearn: 0.9098775\ttotal: 48s\tremaining: 1m 29s\n",
      "1000:\tlearn: 0.9097220\ttotal: 1m 35s\tremaining: 41.2s\n",
      "1433:\tlearn: 0.9098998\ttotal: 2m 15s\tremaining: 0us\n"
     ]
    },
    {
     "name": "stderr",
     "output_type": "stream",
     "text": [
      "[I 2024-02-13 16:58:55,560] Trial 3 finished with value: 0.9092509129190379 and parameters: {'iterations': 1434, 'depth': 5, 'learning_rate': 0.0013110059752069506}. Best is trial 2 with value: 0.9183322018181518.\n"
     ]
    },
    {
     "name": "stdout",
     "output_type": "stream",
     "text": [
      "0:\tlearn: 0.9081442\ttotal: 102ms\tremaining: 5m 56s\n",
      "500:\tlearn: 0.9139798\ttotal: 42.1s\tremaining: 4m 11s\n",
      "1000:\tlearn: 0.9151204\ttotal: 1m 23s\tremaining: 3m 28s\n",
      "1500:\tlearn: 0.9159738\ttotal: 2m 5s\tremaining: 2m 46s\n",
      "2000:\tlearn: 0.9165836\ttotal: 2m 46s\tremaining: 2m 4s\n",
      "2500:\tlearn: 0.9170404\ttotal: 3m 28s\tremaining: 1m 22s\n",
      "3000:\tlearn: 0.9174720\ttotal: 4m 9s\tremaining: 40.7s\n",
      "3489:\tlearn: 0.9177822\ttotal: 4m 50s\tremaining: 0us\n"
     ]
    },
    {
     "name": "stderr",
     "output_type": "stream",
     "text": [
      "[I 2024-02-13 17:03:47,643] Trial 4 finished with value: 0.916154004529545 and parameters: {'iterations': 3490, 'depth': 4, 'learning_rate': 0.03665758665150615}. Best is trial 2 with value: 0.9183322018181518.\n"
     ]
    },
    {
     "name": "stdout",
     "output_type": "stream",
     "text": [
      "0:\tlearn: 0.9084360\ttotal: 126ms\tremaining: 3m 1s\n",
      "500:\tlearn: 0.9110371\ttotal: 1m 4s\tremaining: 2m 1s\n",
      "1000:\tlearn: 0.9117893\ttotal: 2m 9s\tremaining: 56.9s\n",
      "1440:\tlearn: 0.9126126\ttotal: 3m 6s\tremaining: 0us\n"
     ]
    },
    {
     "name": "stderr",
     "output_type": "stream",
     "text": [
      "[I 2024-02-13 17:06:55,623] Trial 5 finished with value: 0.9119261231062474 and parameters: {'iterations': 1441, 'depth': 9, 'learning_rate': 0.001509080884036847}. Best is trial 2 with value: 0.9183322018181518.\n"
     ]
    },
    {
     "name": "stdout",
     "output_type": "stream",
     "text": [
      "0:\tlearn: 0.9083041\ttotal: 180ms\tremaining: 14m 31s\n",
      "500:\tlearn: 0.9231187\ttotal: 1m 31s\tremaining: 13m 12s\n",
      "1000:\tlearn: 0.9289953\ttotal: 3m 2s\tremaining: 11m 41s\n",
      "1500:\tlearn: 0.9334810\ttotal: 4m 32s\tremaining: 10m 8s\n",
      "2000:\tlearn: 0.9373479\ttotal: 6m 3s\tremaining: 8m 37s\n",
      "2500:\tlearn: 0.9410607\ttotal: 7m 34s\tremaining: 7m 6s\n",
      "3000:\tlearn: 0.9448523\ttotal: 9m 4s\tremaining: 5m 35s\n",
      "3500:\tlearn: 0.9481661\ttotal: 10m 34s\tremaining: 4m 4s\n",
      "4000:\tlearn: 0.9513674\ttotal: 12m 3s\tremaining: 2m 33s\n",
      "4500:\tlearn: 0.9542718\ttotal: 13m 33s\tremaining: 1m 3s\n",
      "4849:\tlearn: 0.9561117\ttotal: 14m 35s\tremaining: 0us\n"
     ]
    },
    {
     "name": "stderr",
     "output_type": "stream",
     "text": [
      "[I 2024-02-13 17:21:35,038] Trial 6 finished with value: 0.9191671769748929 and parameters: {'iterations': 4850, 'depth': 10, 'learning_rate': 0.05683965228786707}. Best is trial 6 with value: 0.9191671769748929.\n"
     ]
    },
    {
     "name": "stdout",
     "output_type": "stream",
     "text": [
      "Best hyperparameters: {'iterations': 4850, 'depth': 10, 'learning_rate': 0.05683965228786707}\n",
      "Best F1-Score: 0.9191671769748929\n"
     ]
    }
   ],
   "source": [
    "# создаем объект обучения\n",
    "study = optuna.create_study(direction='maximize')\n",
    "\n",
    "# запускаем оптимизацию целевой функции objective на 7 итераций\n",
    "study.optimize(objective, n_trials=7)\n",
    "print('Best hyperparameters:', study.best_params)\n",
    "print('Best F1-Score:', study.best_value)"
   ]
  },
  {
   "cell_type": "code",
   "execution_count": 117,
   "id": "3ded91e5-8dcd-49ac-bd87-6a3db00704f0",
   "metadata": {
    "execution": {
     "iopub.execute_input": "2024-02-13T17:59:22.412620Z",
     "iopub.status.busy": "2024-02-13T17:59:22.411896Z",
     "iopub.status.idle": "2024-02-13T17:59:22.423289Z",
     "shell.execute_reply": "2024-02-13T17:59:22.422680Z",
     "shell.execute_reply.started": "2024-02-13T17:59:22.412589Z"
    },
    "tags": []
   },
   "outputs": [],
   "source": [
    "def objective(trial):\n",
    "    \n",
    "    # словарь параметров\n",
    "    params = {\n",
    "        'objective': 'binary:logistic',\n",
    "        'random_state': RANDOM_STATE,\n",
    "        'n_estimators' : trial.suggest_int(\"n_estimators\", 1000, 5000),\n",
    "        'max_depth' : trial.suggest_int(\"max_depth\", 4, 10),\n",
    "        'learning_rate': trial.suggest_float(\"learning_rate\", 1e-3, 1e-1, log=True)\n",
    "    }\n",
    "    \n",
    "    model = xgb.XGBClassifier(**params)\n",
    "    model.fit(features_train,target_train, verbose=500)\n",
    "    predictions = model.predict(features_valid)\n",
    "    f1_xgb = f1_score(target_valid, predictions)\n",
    "    return f1_xgb"
   ]
  },
  {
   "cell_type": "code",
   "execution_count": null,
   "id": "70e70377-8ad1-4f0a-b398-d11c96d062d6",
   "metadata": {
    "execution": {
     "iopub.execute_input": "2024-02-13T17:59:24.392911Z",
     "iopub.status.busy": "2024-02-13T17:59:24.392239Z",
     "iopub.status.idle": "2024-02-13T22:14:58.244663Z"
    },
    "tags": []
   },
   "outputs": [
    {
     "name": "stderr",
     "output_type": "stream",
     "text": [
      "[I 2024-02-13 17:59:24,395] A new study created in memory with name: no-name-d08e0dee-0ae5-4332-940c-b4a7ec5ee052\n",
      "[I 2024-02-13 18:20:01,255] Trial 0 finished with value: 0.9200026412664872 and parameters: {'n_estimators': 1001, 'max_depth': 9, 'learning_rate': 0.06063685751953226}. Best is trial 0 with value: 0.9200026412664872.\n",
      "[I 2024-02-13 19:50:46,177] Trial 1 finished with value: 0.9195415567282322 and parameters: {'n_estimators': 4051, 'max_depth': 10, 'learning_rate': 0.00668361092025405}. Best is trial 0 with value: 0.9200026412664872.\n",
      "[I 2024-02-13 20:03:53,098] Trial 2 finished with value: 0.9094695237473052 and parameters: {'n_estimators': 1602, 'max_depth': 4, 'learning_rate': 0.0010554630080913624}. Best is trial 0 with value: 0.9200026412664872.\n",
      "[I 2024-02-13 20:34:55,091] Trial 3 finished with value: 0.9171226104152933 and parameters: {'n_estimators': 3536, 'max_depth': 4, 'learning_rate': 0.018216852569975097}. Best is trial 0 with value: 0.9200026412664872.\n",
      "[I 2024-02-13 21:06:07,175] Trial 4 finished with value: 0.9181735761971482 and parameters: {'n_estimators': 2813, 'max_depth': 5, 'learning_rate': 0.02092867485544744}. Best is trial 0 with value: 0.9200026412664872.\n",
      "[I 2024-02-13 21:57:42,545] Trial 5 finished with value: 0.9130059443060454 and parameters: {'n_estimators': 4850, 'max_depth': 5, 'learning_rate': 0.0015751559839617291}. Best is trial 0 with value: 0.9200026412664872.\n",
      "[I 2024-02-13 22:14:58,236] Trial 6 finished with value: 0.9161611089617477 and parameters: {'n_estimators': 1144, 'max_depth': 7, 'learning_rate': 0.011129078390269827}. Best is trial 0 with value: 0.9200026412664872.\n"
     ]
    },
    {
     "name": "stdout",
     "output_type": "stream",
     "text": [
      "Best hyperparameters: {'n_estimators': 1001, 'max_depth': 9, 'learning_rate': 0.06063685751953226}\n",
      "Best F1-Score: 0.9200026412664872\n"
     ]
    }
   ],
   "source": [
    "study = optuna.create_study(direction='maximize')\n",
    "\n",
    "# запускаем оптимизацию целевой функции objective на 7 итераций\n",
    "study.optimize(objective, n_trials=7)\n",
    "print('Best hyperparameters:', study.best_params)\n",
    "print('Best F1-Score:', study.best_value)"
   ]
  },
  {
   "cell_type": "markdown",
   "id": "18530314-d13d-4b2a-a3bc-f40ea99b3c63",
   "metadata": {},
   "source": [
    "Протестируем ансамбль с подобранными гиперпараметрами:"
   ]
  },
  {
   "cell_type": "code",
   "execution_count": 64,
   "id": "f0ba6fcf-5e6c-427b-91c2-44a8278dadf3",
   "metadata": {
    "execution": {
     "iopub.execute_input": "2024-02-14T13:14:56.901618Z",
     "iopub.status.busy": "2024-02-14T13:14:56.901040Z",
     "iopub.status.idle": "2024-02-14T13:48:52.649229Z",
     "shell.execute_reply": "2024-02-14T13:48:52.648628Z",
     "shell.execute_reply.started": "2024-02-14T13:14:56.901588Z"
    },
    "tags": []
   },
   "outputs": [
    {
     "data": {
      "text/html": [
       "<div>\n",
       "<style scoped>\n",
       "    .dataframe tbody tr th:only-of-type {\n",
       "        vertical-align: middle;\n",
       "    }\n",
       "\n",
       "    .dataframe tbody tr th {\n",
       "        vertical-align: top;\n",
       "    }\n",
       "\n",
       "    .dataframe thead th {\n",
       "        text-align: right;\n",
       "    }\n",
       "</style>\n",
       "<table border=\"1\" class=\"dataframe\">\n",
       "  <thead>\n",
       "    <tr style=\"text-align: right;\">\n",
       "      <th></th>\n",
       "      <th>Model Name</th>\n",
       "      <th>F1-Score</th>\n",
       "      <th>Precision</th>\n",
       "      <th>Recall</th>\n",
       "    </tr>\n",
       "  </thead>\n",
       "  <tbody>\n",
       "    <tr>\n",
       "      <th>0</th>\n",
       "      <td>LGBMClassifier</td>\n",
       "      <td>0.91346</td>\n",
       "      <td>0.88683</td>\n",
       "      <td>0.94174</td>\n",
       "    </tr>\n",
       "    <tr>\n",
       "      <th>1</th>\n",
       "      <td>XGBClassifier</td>\n",
       "      <td>0.91687</td>\n",
       "      <td>0.89394</td>\n",
       "      <td>0.94100</td>\n",
       "    </tr>\n",
       "    <tr>\n",
       "      <th>2</th>\n",
       "      <td>CatBoostClassifier</td>\n",
       "      <td>0.91666</td>\n",
       "      <td>0.89238</td>\n",
       "      <td>0.94230</td>\n",
       "    </tr>\n",
       "    <tr>\n",
       "      <th>3</th>\n",
       "      <td>CatBoostClassifier balanced</td>\n",
       "      <td>0.91304</td>\n",
       "      <td>0.85964</td>\n",
       "      <td>0.97351</td>\n",
       "    </tr>\n",
       "    <tr>\n",
       "      <th>4</th>\n",
       "      <td>CatBoostClassifier with price ratio</td>\n",
       "      <td>0.91765</td>\n",
       "      <td>0.89373</td>\n",
       "      <td>0.94290</td>\n",
       "    </tr>\n",
       "    <tr>\n",
       "      <th>5</th>\n",
       "      <td>CatBoostClassifier with price difference</td>\n",
       "      <td>0.91777</td>\n",
       "      <td>0.89380</td>\n",
       "      <td>0.94307</td>\n",
       "    </tr>\n",
       "    <tr>\n",
       "      <th>6</th>\n",
       "      <td>Ensemble(xgb+catboost)</td>\n",
       "      <td>0.91928</td>\n",
       "      <td>0.89548</td>\n",
       "      <td>0.94439</td>\n",
       "    </tr>\n",
       "    <tr>\n",
       "      <th>7</th>\n",
       "      <td>Ensemble(xgb+catboost)</td>\n",
       "      <td>0.92043</td>\n",
       "      <td>0.89679</td>\n",
       "      <td>0.94534</td>\n",
       "    </tr>\n",
       "  </tbody>\n",
       "</table>\n",
       "</div>"
      ],
      "text/plain": [
       "                                 Model Name  F1-Score  Precision   Recall\n",
       "0                            LGBMClassifier   0.91346    0.88683  0.94174\n",
       "1                             XGBClassifier   0.91687    0.89394  0.94100\n",
       "2                        CatBoostClassifier   0.91666    0.89238  0.94230\n",
       "3               CatBoostClassifier balanced   0.91304    0.85964  0.97351\n",
       "4       CatBoostClassifier with price ratio   0.91765    0.89373  0.94290\n",
       "5  CatBoostClassifier with price difference   0.91777    0.89380  0.94307\n",
       "6                    Ensemble(xgb+catboost)   0.91928    0.89548  0.94439\n",
       "7                    Ensemble(xgb+catboost)   0.92043    0.89679  0.94534"
      ]
     },
     "metadata": {},
     "output_type": "display_data"
    }
   ],
   "source": [
    "model1 = xgb.XGBClassifier(random_state=RANDOM_STATE, objective='binary:logistic', n_estimators=1001, \n",
    "                           max_depth = 9, learning_rate = 0.06063685751953226)\n",
    "model2 = CatBoostClassifier(random_state=RANDOM_STATE, eval_metric='F1', verbose=False, iterations = 4850, \n",
    "                            depth = 10, learning_rate = 0.05683965228786707)\n",
    "\n",
    "# создадим ансамбль из моделей градиентного бустинга\n",
    "ensemble = VotingClassifier(estimators=[('xgb', model1), ('catboost', model2)], voting='soft')\n",
    "                                                                      \n",
    "models_dict = {\n",
    "    'Ensemble(xgb+catboost)': ensemble\n",
    "}\n",
    "ensemble_final = model_selection(models_dict, features_train, target_train, features_valid, target_valid)\n",
    "\n",
    "results_table = pd.concat([results_table, ensemble_final], ignore_index=True)\n",
    "display(results_table)"
   ]
  },
  {
   "cell_type": "markdown",
   "id": "498ef859-ef5d-48e6-b7ac-0aae00e63064",
   "metadata": {},
   "source": [
    "Метрика  улучшилась по сравнению с ансамблем без настройки гиперпараметров, точность и полнота увеличились. В качестве финальной модели будем использовать данный ансамбль."
   ]
  },
  {
   "cell_type": "markdown",
   "id": "9c7a3c29-5f8c-4fb7-b0c8-558cf6bfe069",
   "metadata": {},
   "source": [
    "## Итоговая модель"
   ]
  },
  {
   "cell_type": "markdown",
   "id": "d981da25-d08d-406c-a343-cacb97a190f9",
   "metadata": {},
   "source": [
    "Обучим финальную модель на всей обучающей выборке:"
   ]
  },
  {
   "cell_type": "code",
   "execution_count": 66,
   "id": "c4a05836-6ad2-4b32-98f0-f74dbe988ac0",
   "metadata": {
    "execution": {
     "iopub.execute_input": "2024-02-14T13:51:48.848981Z",
     "iopub.status.busy": "2024-02-14T13:51:48.848485Z",
     "iopub.status.idle": "2024-02-14T14:39:39.991398Z",
     "shell.execute_reply": "2024-02-14T14:39:39.990684Z",
     "shell.execute_reply.started": "2024-02-14T13:51:48.848947Z"
    },
    "tags": []
   },
   "outputs": [],
   "source": [
    "# финальная модель\n",
    "model_final = VotingClassifier(estimators=[('xgb', model1), ('catboost', model2)], voting='soft')\n",
    "\n",
    "# обучаем модель на всей тренировочной выборке и делаем предсказания на тестовой\n",
    "model_final.fit(features, target)\n",
    "model_final_preds = model_final.predict(features_test)\n",
    "\n",
    "# перезаписываем предсказания в примере для сабмита\n",
    "predictions = sample_submission.drop(['target'], axis =1)\n",
    "predictions['target'] = model_final_preds"
   ]
  },
  {
   "cell_type": "markdown",
   "id": "d4504fef-24ac-4580-92b7-0ebfaa015f93",
   "metadata": {},
   "source": [
    "Применим оптимальный порог классификации для финальных предсказаний:"
   ]
  },
  {
   "cell_type": "code",
   "execution_count": 67,
   "id": "2e2ae104-ba69-46fa-b027-aa78f5100cbe",
   "metadata": {
    "execution": {
     "iopub.execute_input": "2024-02-14T14:39:39.993041Z",
     "iopub.status.busy": "2024-02-14T14:39:39.992607Z",
     "iopub.status.idle": "2024-02-14T14:39:43.702601Z",
     "shell.execute_reply": "2024-02-14T14:39:43.701981Z",
     "shell.execute_reply.started": "2024-02-14T14:39:39.993018Z"
    },
    "tags": []
   },
   "outputs": [],
   "source": [
    "final_probs = model_final.predict_proba(features_test)\n",
    "y_pred = (final_probs[:, 1] >= 0.460).astype(int)\n",
    "predictions['target'] = y_pred"
   ]
  },
  {
   "cell_type": "markdown",
   "id": "6254ce89-9245-4cdd-a9d6-2c01be31fc58",
   "metadata": {},
   "source": [
    "Сохраним получившиеся предсказания в файле **predictions_final.csv**:"
   ]
  },
  {
   "cell_type": "code",
   "execution_count": 68,
   "id": "cca9417c-7654-425a-9963-6649c1b33cbb",
   "metadata": {
    "execution": {
     "iopub.execute_input": "2024-02-14T14:39:43.704226Z",
     "iopub.status.busy": "2024-02-14T14:39:43.703749Z",
     "iopub.status.idle": "2024-02-14T14:39:44.066571Z",
     "shell.execute_reply": "2024-02-14T14:39:44.065843Z",
     "shell.execute_reply.started": "2024-02-14T14:39:43.704195Z"
    },
    "tags": []
   },
   "outputs": [],
   "source": [
    "predictions.to_csv('predictions_final.csv', index = False)"
   ]
  },
  {
   "cell_type": "markdown",
   "id": "f69d6e11-6278-4658-9a0f-f4856c5de58a",
   "metadata": {},
   "source": [
    "## Итоги"
   ]
  },
  {
   "cell_type": "markdown",
   "id": "2b980cd7-b11e-4cb7-b839-43a8b9b23beb",
   "metadata": {},
   "source": [
    "До дедлайна соревнования в качестве финальной модели был выбран catboost, обученный на 5000 деревьев. К предсказаниям применен подобранный порог классификации:\n",
    "- Public Score составил **0.91962**\n",
    "- Private Score составил **0.9199**\n",
    "\n",
    "После завершения соревнования решение было доработано и в качестве финальной модели был выбран ансамбль (catboost+xgb c подобранными гиперпараметрами), также был применен оптимальный порог классификации:\n",
    "- Public Score составил **0.92129**\n",
    "- Private Score составил **0.92132**\n",
    "\n",
    "**Полезные решения:**\n",
    "\n",
    "- использование ансамбля моделей с мягким голосованием;\n",
    "- генерация новых признаков (отношение и разница цен);\n",
    "- подбор оптимальных гиперпараметров для моделей, входящих в ансамбль;\n",
    "- подбор оптимального порога классификации.\n",
    "\n",
    "**Бесполезные решения:**\n",
    "\n",
    "- изменение весов классов с дефолтных (вес каждого класса равен 1) на веса классов на основе общего количества объектов в каждом классе."
   ]
  }
 ],
 "metadata": {
  "kernelspec": {
   "display_name": "DataSphere Kernel",
   "language": "python",
   "name": "python3"
  },
  "language_info": {
   "codemirror_mode": {
    "name": "ipython",
    "version": 3
   },
   "file_extension": ".py",
   "mimetype": "text/x-python",
   "name": "python",
   "nbconvert_exporter": "python",
   "pygments_lexer": "ipython3",
   "version": "3.7.7"
  }
 },
 "nbformat": 4,
 "nbformat_minor": 5
}
